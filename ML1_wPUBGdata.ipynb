{
  "nbformat": 4,
  "nbformat_minor": 0,
  "metadata": {
    "colab": {
      "name": "ML1_wPUBGdata",
      "version": "0.3.2",
      "provenance": [],
      "collapsed_sections": [
        "TURMpoCLuWrs"
      ],
      "toc_visible": true
    },
    "kernelspec": {
      "name": "python3",
      "display_name": "Python 3"
    },
    "accelerator": "TPU"
  },
  "cells": [
    {
      "metadata": {
        "id": "QfMPkohluKsP",
        "colab_type": "text"
      },
      "cell_type": "markdown",
      "source": [
        "#Download and install packages | Data"
      ]
    },
    {
      "metadata": {
        "id": "Xzsx7UtWQLep",
        "colab_type": "code",
        "colab": {}
      },
      "cell_type": "code",
      "source": [
        "%%capture\n",
        "!pip install kaggle\n",
        "!pip install fastai==0.7.0\n",
        "!pip install torchtext==0.2.3\n",
        "!pip install ggplot\n",
        "!pip install pdpbox"
      ],
      "execution_count": 0,
      "outputs": []
    },
    {
      "metadata": {
        "id": "iG4XFUC7Tezx",
        "colab_type": "code",
        "outputId": "1fca66f5-79c2-4f11-ef89-3e89d4393ec5",
        "colab": {
          "base_uri": "https://localhost:8080/",
          "height": 202
        }
      },
      "cell_type": "code",
      "source": [
        "!rm data/*\n",
        "!rm *\n",
        "!kaggle competitions download -p data -c pubg-finish-placement-prediction"
      ],
      "execution_count": 0,
      "outputs": [
        {
          "output_type": "stream",
          "text": [
            "rm: cannot remove 'data': Is a directory\n",
            "rm: cannot remove 'sample_data': Is a directory\n",
            "Downloading sample_submission_V2.csv.zip to data\n",
            "100% 16.9M/16.9M [00:00<00:00, 174MB/s]\n",
            "\n",
            "Downloading test_V2.csv.zip to data\n",
            " 90% 88.0M/98.3M [00:00<00:00, 161MB/s]\n",
            "100% 98.3M/98.3M [00:00<00:00, 228MB/s]\n",
            "Downloading train_V2.csv.zip to data\n",
            "100% 238M/239M [00:01<00:00, 183MB/s]\n",
            "100% 239M/239M [00:01<00:00, 178MB/s]\n"
          ],
          "name": "stdout"
        }
      ]
    },
    {
      "metadata": {
        "id": "aM8-YMgvUHjw",
        "colab_type": "code",
        "outputId": "b7b3e8e2-62d8-4093-d921-dcb1b01fc60c",
        "colab": {
          "base_uri": "https://localhost:8080/",
          "height": 147
        }
      },
      "cell_type": "code",
      "source": [
        "!ls -l sample_data"
      ],
      "execution_count": 0,
      "outputs": [
        {
          "output_type": "stream",
          "text": [
            "total 55504\n",
            "-r-xr-xr-x 1 root root     1697 Jan  1  2000 anscombe.json\n",
            "-rw-r--r-- 1 root root   301141 Nov 29 18:21 california_housing_test.csv\n",
            "-rw-r--r-- 1 root root  1706430 Nov 29 18:21 california_housing_train.csv\n",
            "-rw-r--r-- 1 root root 18289443 Nov 29 18:21 mnist_test.csv\n",
            "-rw-r--r-- 1 root root 36523880 Nov 29 18:21 mnist_train_small.csv\n",
            "-r-xr-xr-x 1 root root      903 Jan  1  2000 README.md\n"
          ],
          "name": "stdout"
        }
      ]
    },
    {
      "metadata": {
        "id": "qk0qj8yVAl_O",
        "colab_type": "code",
        "outputId": "a23498ef-1d71-46b6-978d-f5aa9fe1be39",
        "colab": {
          "base_uri": "https://localhost:8080/",
          "height": 302
        }
      },
      "cell_type": "code",
      "source": [
        "!unzip \"data/*.zip\" -d data\n",
        "!ls -l data"
      ],
      "execution_count": 0,
      "outputs": [
        {
          "output_type": "stream",
          "text": [
            "Archive:  data/test_V2.csv.zip\n",
            "  inflating: data/test_V2.csv        \n",
            "\n",
            "Archive:  data/train_V2.csv.zip\n",
            "  inflating: data/train_V2.csv       \n",
            "\n",
            "Archive:  data/sample_submission_V2.csv.zip\n",
            "  inflating: data/sample_submission_V2.csv  \n",
            "\n",
            "3 archives were successfully processed.\n",
            "total 1305716\n",
            "---------- 1 root root  32880974 Oct 18 23:51 sample_submission_V2.csv\n",
            "-rw-r--r-- 1 root root  17688220 Nov 29 15:25 sample_submission_V2.csv.zip\n",
            "---------- 1 root root 273239581 Oct 18 23:51 test_V2.csv\n",
            "-rw-r--r-- 1 root root 103060373 Nov 29 15:25 test_V2.csv.zip\n",
            "---------- 1 root root 659540495 Oct 18 23:51 train_V2.csv\n",
            "-rw-r--r-- 1 root root 250618121 Nov 29 15:25 train_V2.csv.zip\n"
          ],
          "name": "stdout"
        }
      ]
    },
    {
      "metadata": {
        "id": "2D8I_Lk5RbY4",
        "colab_type": "code",
        "colab": {}
      },
      "cell_type": "code",
      "source": [
        "%load_ext autoreload\n",
        "%autoreload 2\n",
        "\n",
        "%matplotlib inline"
      ],
      "execution_count": 0,
      "outputs": []
    },
    {
      "metadata": {
        "id": "zAU-TIoQRjVA",
        "colab_type": "code",
        "outputId": "5f0a5849-402a-47ad-ec00-6021f2218195",
        "colab": {
          "base_uri": "https://localhost:8080/",
          "height": 154
        }
      },
      "cell_type": "code",
      "source": [
        "from fastai.imports import *\n",
        "from fastai.structured import *\n",
        "import pandas as pd\n",
        "\n",
        "from sklearn.ensemble import *\n",
        "from sklearn.model_selection import *\n",
        "from IPython.display import display\n",
        "\n",
        "from ggplot import *\n",
        "from sklearn.metrics import *\n",
        "from scipy.cluster import hierarchy as hc\n",
        "import seaborn as sns"
      ],
      "execution_count": 0,
      "outputs": [
        {
          "output_type": "stream",
          "text": [
            "/usr/local/lib/python3.6/dist-packages/ggplot/utils.py:81: FutureWarning: pandas.tslib is deprecated and will be removed in a future version.\n",
            "You can access Timestamp as pandas.Timestamp\n",
            "  pd.tslib.Timestamp,\n",
            "/usr/local/lib/python3.6/dist-packages/ggplot/stats/smoothers.py:4: FutureWarning: The pandas.lib module is deprecated and will be removed in a future version. These are private functions and can be accessed from pandas._libs.lib instead\n",
            "  from pandas.lib import Timestamp\n",
            "/usr/local/lib/python3.6/dist-packages/statsmodels/compat/pandas.py:56: FutureWarning: The pandas.core.datetools module is deprecated and will be removed in a future version. Please use the pandas.tseries module instead.\n",
            "  from pandas.core import datetools\n"
          ],
          "name": "stderr"
        }
      ]
    },
    {
      "metadata": {
        "id": "6h7aFmCSybNy",
        "colab_type": "text"
      },
      "cell_type": "markdown",
      "source": [
        "Download all the training data into csv files"
      ]
    },
    {
      "metadata": {
        "id": "E7RE0DHWb6g-",
        "colab_type": "code",
        "outputId": "f5a1129b-e953-44e2-dd01-9b9b30bd8034",
        "colab": {
          "base_uri": "https://localhost:8080/",
          "height": 50
        }
      },
      "cell_type": "code",
      "source": [
        "%%time\n",
        "train = pd.read_csv(f'data/train_V2.csv')\n",
        "test = pd.read_csv(f'data/test_V2.csv')\n",
        "samp_sub = pd.read_csv(f'data/sample_submission_V2.csv')"
      ],
      "execution_count": 0,
      "outputs": [
        {
          "output_type": "stream",
          "text": [
            "CPU times: user 40.1 s, sys: 4.24 s, total: 44.4 s\n",
            "Wall time: 44.4 s\n"
          ],
          "name": "stdout"
        }
      ]
    },
    {
      "metadata": {
        "id": "0FHDaIcSoCP-",
        "colab_type": "code",
        "outputId": "e0d3c0cf-c426-4826-a074-deb4f281192b",
        "colab": {
          "base_uri": "https://localhost:8080/",
          "height": 50
        }
      },
      "cell_type": "code",
      "source": [
        "%%time\n",
        "valid = pd.merge(test, samp_sub, how = 'inner', left_on = \"Id\", right_on =\"Id\")"
      ],
      "execution_count": 0,
      "outputs": [
        {
          "output_type": "stream",
          "text": [
            "CPU times: user 4.76 s, sys: 38.8 ms, total: 4.8 s\n",
            "Wall time: 4.78 s\n"
          ],
          "name": "stdout"
        }
      ]
    },
    {
      "metadata": {
        "id": "vkTyICqeduOe",
        "colab_type": "code",
        "outputId": "24aa1c3f-e6d5-4c09-c649-cb0c19c70889",
        "colab": {
          "base_uri": "https://localhost:8080/",
          "height": 34
        }
      },
      "cell_type": "code",
      "source": [
        "train.shape"
      ],
      "execution_count": 0,
      "outputs": [
        {
          "output_type": "execute_result",
          "data": {
            "text/plain": [
              "(4446966, 29)"
            ]
          },
          "metadata": {
            "tags": []
          },
          "execution_count": 12
        }
      ]
    },
    {
      "metadata": {
        "id": "2_QoKZyPkYjN",
        "colab_type": "code",
        "outputId": "c5d0f3af-38fb-4e48-b09e-9ecc818d472d",
        "colab": {
          "base_uri": "https://localhost:8080/",
          "height": 134
        }
      },
      "cell_type": "code",
      "source": [
        "train.columns"
      ],
      "execution_count": 0,
      "outputs": [
        {
          "output_type": "execute_result",
          "data": {
            "text/plain": [
              "Index(['Id', 'groupId', 'matchId', 'assists', 'boosts', 'damageDealt', 'DBNOs',\n",
              "       'headshotKills', 'heals', 'killPlace', 'killPoints', 'kills',\n",
              "       'killStreaks', 'longestKill', 'matchDuration', 'matchType', 'maxPlace',\n",
              "       'numGroups', 'rankPoints', 'revives', 'rideDistance', 'roadKills',\n",
              "       'swimDistance', 'teamKills', 'vehicleDestroys', 'walkDistance',\n",
              "       'weaponsAcquired', 'winPoints', 'winPlacePerc'],\n",
              "      dtype='object')"
            ]
          },
          "metadata": {
            "tags": []
          },
          "execution_count": 13
        }
      ]
    },
    {
      "metadata": {
        "id": "_6ZtRHJpuDMg",
        "colab_type": "text"
      },
      "cell_type": "markdown",
      "source": [
        "#Build initial Random Forest"
      ]
    },
    {
      "metadata": {
        "id": "gahpKaXfHnky",
        "colab_type": "code",
        "colab": {}
      },
      "cell_type": "code",
      "source": [
        "#Take a smaller% sample of the data for training\n",
        "perc = 0.01\n",
        "train_small=train.sample(n = round(train.shape[0]*perc), random_state = 42)\n",
        "valid_small = valid.sample(n = round(valid.shape[0]*perc), random_state = 42)"
      ],
      "execution_count": 0,
      "outputs": []
    },
    {
      "metadata": {
        "id": "vBP4w79wengj",
        "colab_type": "code",
        "outputId": "e04816d1-d5c4-4d96-8e19-990fd3b3c822",
        "colab": {
          "base_uri": "https://localhost:8080/",
          "height": 34
        }
      },
      "cell_type": "code",
      "source": [
        "valid_small.shape"
      ],
      "execution_count": 0,
      "outputs": [
        {
          "output_type": "execute_result",
          "data": {
            "text/plain": [
              "(19342, 29)"
            ]
          },
          "metadata": {
            "tags": []
          },
          "execution_count": 15
        }
      ]
    },
    {
      "metadata": {
        "id": "XlQnLvxXgaat",
        "colab_type": "code",
        "colab": {}
      },
      "cell_type": "code",
      "source": [
        "train_cats(train_small)"
      ],
      "execution_count": 0,
      "outputs": []
    },
    {
      "metadata": {
        "id": "0ZmpiU3fdRcC",
        "colab_type": "code",
        "outputId": "6d8fb62c-ed59-41d9-ae06-bc68bde6b44f",
        "colab": {
          "base_uri": "https://localhost:8080/",
          "height": 84
        }
      },
      "cell_type": "code",
      "source": [
        "#Show that the categories have been successfully assigned\n",
        "train_small.matchType.cat.categories"
      ],
      "execution_count": 0,
      "outputs": [
        {
          "output_type": "execute_result",
          "data": {
            "text/plain": [
              "Index(['crashfpp', 'crashtpp', 'duo', 'duo-fpp', 'flarefpp', 'flaretpp',\n",
              "       'normal-duo-fpp', 'normal-solo', 'normal-solo-fpp', 'normal-squad',\n",
              "       'normal-squad-fpp', 'solo', 'solo-fpp', 'squad', 'squad-fpp'],\n",
              "      dtype='object')"
            ]
          },
          "metadata": {
            "tags": []
          },
          "execution_count": 17
        }
      ]
    },
    {
      "metadata": {
        "id": "Q8Z_48MucLN6",
        "colab_type": "code",
        "colab": {}
      },
      "cell_type": "code",
      "source": [
        "df, y, nas = proc_df(train_small, 'winPlacePerc', max_n_cat=7)"
      ],
      "execution_count": 0,
      "outputs": []
    },
    {
      "metadata": {
        "id": "LIbJ7I-eba4y",
        "colab_type": "code",
        "outputId": "40a1f54e-385e-4b92-955f-ba401a3022f0",
        "colab": {
          "base_uri": "https://localhost:8080/",
          "height": 84
        }
      },
      "cell_type": "code",
      "source": [
        "#Create random training and testing samples\n",
        "#Use only reduced columns of model to predict random forest \n",
        "X_train, X_test, y_train, y_test = train_test_split(\n",
        "    df, y, \n",
        "    test_size=0.5, random_state=42)\n",
        "print(\"X Train Shape: \" + str(X_train.shape))\n",
        "print(\"y Train Shape: \" + str(y_train.shape))\n",
        "print(\"X Test Shape: \" + str(X_test.shape))\n",
        "print(\"y Test Shape: \" + str(y_test.shape))"
      ],
      "execution_count": 0,
      "outputs": [
        {
          "output_type": "stream",
          "text": [
            "X Train Shape: (22235, 28)\n",
            "y Train Shape: (22235,)\n",
            "X Test Shape: (22235, 28)\n",
            "y Test Shape: (22235,)\n"
          ],
          "name": "stdout"
        }
      ]
    },
    {
      "metadata": {
        "colab_type": "code",
        "id": "-P6vw9808o7v",
        "colab": {}
      },
      "cell_type": "code",
      "source": [
        "def print_score(m, X_train, y_train, X_test, y_test, verbose = True):\n",
        "  if verbose:\n",
        "    print(\"R**2 Score of model: \" + str(m.score(X_train, y_train)))\n",
        "    print(\"Mean Abs Error: \" + str(mean_absolute_error(y_test, m.predict(X_test))))\n",
        "    print(\"OOB Score: \" + str(m.oob_score_))\n",
        "  else:\n",
        "    return m.score(X_train, y_train), mean_absolute_error(y_test, m.predict(X_test)), m.oob_score_;"
      ],
      "execution_count": 0,
      "outputs": []
    },
    {
      "metadata": {
        "id": "-gKSR8uCfZ3t",
        "colab_type": "code",
        "outputId": "6276b47a-254a-4956-86bc-988e224114fa",
        "colab": {
          "base_uri": "https://localhost:8080/",
          "height": 154
        }
      },
      "cell_type": "code",
      "source": [
        "#Sample run to test that random forrest is working and function above is working correctly\n",
        "%%time \n",
        "set_rf_samples(10000)\n",
        "m = RandomForestRegressor(n_estimators = 10, \n",
        "                          random_state = 42,\n",
        "                          criterion = 'mae', n_jobs = 2, \n",
        "                          min_samples_leaf=100, \n",
        "                          max_features = 'sqrt',\n",
        "                          oob_score = True\n",
        "                          )\n",
        "m.fit(X_train, y_train)\n",
        "print_score(m, X_train, y_train, X_test, y_test)"
      ],
      "execution_count": 0,
      "outputs": [
        {
          "output_type": "stream",
          "text": [
            "/usr/local/lib/python3.6/dist-packages/sklearn/ensemble/forest.py:724: UserWarning: Some inputs do not have OOB scores. This probably means too few trees were used to compute any reliable oob estimates.\n",
            "  warn(\"Some inputs do not have OOB scores. \"\n"
          ],
          "name": "stderr"
        },
        {
          "output_type": "stream",
          "text": [
            "R**2 Score of model: 0.8338987677773342\n",
            "Mean Abs Error: 0.09018178727231842\n",
            "OOB Score: 0.8226661825936752\n",
            "CPU times: user 16.9 s, sys: 14.5 ms, total: 16.9 s\n",
            "Wall time: 8.89 s\n"
          ],
          "name": "stdout"
        }
      ]
    },
    {
      "metadata": {
        "id": "GVqukNk6t4Xa",
        "colab_type": "text"
      },
      "cell_type": "markdown",
      "source": [
        "#Feature Engineering\n",
        "###Analyze features in dataset and select/engineer important features"
      ]
    },
    {
      "metadata": {
        "id": "aKeIh2HoWCXJ",
        "colab_type": "code",
        "outputId": "10d664d7-a318-40ff-9c86-69e48be1d6a1",
        "colab": {
          "base_uri": "https://localhost:8080/",
          "height": 876
        }
      },
      "cell_type": "code",
      "source": [
        "#Check out variable importance of columns of training data\n",
        "pd.DataFrame(m.feature_importances_, index = df.columns, columns=['importance']).sort_values(by = 'importance', ascending = False)"
      ],
      "execution_count": 0,
      "outputs": [
        {
          "output_type": "execute_result",
          "data": {
            "text/html": [
              "<div>\n",
              "<style scoped>\n",
              "    .dataframe tbody tr th:only-of-type {\n",
              "        vertical-align: middle;\n",
              "    }\n",
              "\n",
              "    .dataframe tbody tr th {\n",
              "        vertical-align: top;\n",
              "    }\n",
              "\n",
              "    .dataframe thead th {\n",
              "        text-align: right;\n",
              "    }\n",
              "</style>\n",
              "<table border=\"1\" class=\"dataframe\">\n",
              "  <thead>\n",
              "    <tr style=\"text-align: right;\">\n",
              "      <th></th>\n",
              "      <th>importance</th>\n",
              "    </tr>\n",
              "  </thead>\n",
              "  <tbody>\n",
              "    <tr>\n",
              "      <th>walkDistance</th>\n",
              "      <td>0.389821</td>\n",
              "    </tr>\n",
              "    <tr>\n",
              "      <th>boosts</th>\n",
              "      <td>0.184126</td>\n",
              "    </tr>\n",
              "    <tr>\n",
              "      <th>killPlace</th>\n",
              "      <td>0.160285</td>\n",
              "    </tr>\n",
              "    <tr>\n",
              "      <th>weaponsAcquired</th>\n",
              "      <td>0.069802</td>\n",
              "    </tr>\n",
              "    <tr>\n",
              "      <th>heals</th>\n",
              "      <td>0.054631</td>\n",
              "    </tr>\n",
              "    <tr>\n",
              "      <th>damageDealt</th>\n",
              "      <td>0.032307</td>\n",
              "    </tr>\n",
              "    <tr>\n",
              "      <th>longestKill</th>\n",
              "      <td>0.030936</td>\n",
              "    </tr>\n",
              "    <tr>\n",
              "      <th>kills</th>\n",
              "      <td>0.024728</td>\n",
              "    </tr>\n",
              "    <tr>\n",
              "      <th>assists</th>\n",
              "      <td>0.010798</td>\n",
              "    </tr>\n",
              "    <tr>\n",
              "      <th>revives</th>\n",
              "      <td>0.007712</td>\n",
              "    </tr>\n",
              "    <tr>\n",
              "      <th>rideDistance</th>\n",
              "      <td>0.005263</td>\n",
              "    </tr>\n",
              "    <tr>\n",
              "      <th>maxPlace</th>\n",
              "      <td>0.004967</td>\n",
              "    </tr>\n",
              "    <tr>\n",
              "      <th>matchDuration</th>\n",
              "      <td>0.004666</td>\n",
              "    </tr>\n",
              "    <tr>\n",
              "      <th>numGroups</th>\n",
              "      <td>0.004375</td>\n",
              "    </tr>\n",
              "    <tr>\n",
              "      <th>killStreaks</th>\n",
              "      <td>0.004156</td>\n",
              "    </tr>\n",
              "    <tr>\n",
              "      <th>swimDistance</th>\n",
              "      <td>0.003742</td>\n",
              "    </tr>\n",
              "    <tr>\n",
              "      <th>DBNOs</th>\n",
              "      <td>0.002468</td>\n",
              "    </tr>\n",
              "    <tr>\n",
              "      <th>matchType</th>\n",
              "      <td>0.001815</td>\n",
              "    </tr>\n",
              "    <tr>\n",
              "      <th>winPoints</th>\n",
              "      <td>0.000854</td>\n",
              "    </tr>\n",
              "    <tr>\n",
              "      <th>headshotKills</th>\n",
              "      <td>0.000806</td>\n",
              "    </tr>\n",
              "    <tr>\n",
              "      <th>rankPoints</th>\n",
              "      <td>0.000592</td>\n",
              "    </tr>\n",
              "    <tr>\n",
              "      <th>Id</th>\n",
              "      <td>0.000449</td>\n",
              "    </tr>\n",
              "    <tr>\n",
              "      <th>matchId</th>\n",
              "      <td>0.000388</td>\n",
              "    </tr>\n",
              "    <tr>\n",
              "      <th>groupId</th>\n",
              "      <td>0.000170</td>\n",
              "    </tr>\n",
              "    <tr>\n",
              "      <th>killPoints</th>\n",
              "      <td>0.000144</td>\n",
              "    </tr>\n",
              "    <tr>\n",
              "      <th>roadKills</th>\n",
              "      <td>0.000000</td>\n",
              "    </tr>\n",
              "    <tr>\n",
              "      <th>teamKills</th>\n",
              "      <td>0.000000</td>\n",
              "    </tr>\n",
              "    <tr>\n",
              "      <th>vehicleDestroys</th>\n",
              "      <td>0.000000</td>\n",
              "    </tr>\n",
              "  </tbody>\n",
              "</table>\n",
              "</div>"
            ],
            "text/plain": [
              "                 importance\n",
              "walkDistance       0.389821\n",
              "boosts             0.184126\n",
              "killPlace          0.160285\n",
              "weaponsAcquired    0.069802\n",
              "heals              0.054631\n",
              "damageDealt        0.032307\n",
              "longestKill        0.030936\n",
              "kills              0.024728\n",
              "assists            0.010798\n",
              "revives            0.007712\n",
              "rideDistance       0.005263\n",
              "maxPlace           0.004967\n",
              "matchDuration      0.004666\n",
              "numGroups          0.004375\n",
              "killStreaks        0.004156\n",
              "swimDistance       0.003742\n",
              "DBNOs              0.002468\n",
              "matchType          0.001815\n",
              "winPoints          0.000854\n",
              "headshotKills      0.000806\n",
              "rankPoints         0.000592\n",
              "Id                 0.000449\n",
              "matchId            0.000388\n",
              "groupId            0.000170\n",
              "killPoints         0.000144\n",
              "roadKills          0.000000\n",
              "teamKills          0.000000\n",
              "vehicleDestroys    0.000000"
            ]
          },
          "metadata": {
            "tags": []
          },
          "execution_count": 22
        }
      ]
    },
    {
      "metadata": {
        "id": "xXi_hN4ht0UD",
        "colab_type": "text"
      },
      "cell_type": "markdown",
      "source": [
        ""
      ]
    },
    {
      "metadata": {
        "id": "ebEx0iLeW6o6",
        "colab_type": "code",
        "outputId": "21a04d64-48c1-4480-bce0-5b0cb550f5a6",
        "colab": {
          "base_uri": "https://localhost:8080/",
          "height": 343
        }
      },
      "cell_type": "code",
      "source": [
        "fi = rf_feat_importance(m, df); fi[:10] #Print out top ten important features"
      ],
      "execution_count": 0,
      "outputs": [
        {
          "output_type": "execute_result",
          "data": {
            "text/html": [
              "<div>\n",
              "<style scoped>\n",
              "    .dataframe tbody tr th:only-of-type {\n",
              "        vertical-align: middle;\n",
              "    }\n",
              "\n",
              "    .dataframe tbody tr th {\n",
              "        vertical-align: top;\n",
              "    }\n",
              "\n",
              "    .dataframe thead th {\n",
              "        text-align: right;\n",
              "    }\n",
              "</style>\n",
              "<table border=\"1\" class=\"dataframe\">\n",
              "  <thead>\n",
              "    <tr style=\"text-align: right;\">\n",
              "      <th></th>\n",
              "      <th>cols</th>\n",
              "      <th>imp</th>\n",
              "    </tr>\n",
              "  </thead>\n",
              "  <tbody>\n",
              "    <tr>\n",
              "      <th>25</th>\n",
              "      <td>walkDistance</td>\n",
              "      <td>0.389821</td>\n",
              "    </tr>\n",
              "    <tr>\n",
              "      <th>4</th>\n",
              "      <td>boosts</td>\n",
              "      <td>0.184126</td>\n",
              "    </tr>\n",
              "    <tr>\n",
              "      <th>9</th>\n",
              "      <td>killPlace</td>\n",
              "      <td>0.160285</td>\n",
              "    </tr>\n",
              "    <tr>\n",
              "      <th>26</th>\n",
              "      <td>weaponsAcquired</td>\n",
              "      <td>0.069802</td>\n",
              "    </tr>\n",
              "    <tr>\n",
              "      <th>8</th>\n",
              "      <td>heals</td>\n",
              "      <td>0.054631</td>\n",
              "    </tr>\n",
              "    <tr>\n",
              "      <th>5</th>\n",
              "      <td>damageDealt</td>\n",
              "      <td>0.032307</td>\n",
              "    </tr>\n",
              "    <tr>\n",
              "      <th>13</th>\n",
              "      <td>longestKill</td>\n",
              "      <td>0.030936</td>\n",
              "    </tr>\n",
              "    <tr>\n",
              "      <th>11</th>\n",
              "      <td>kills</td>\n",
              "      <td>0.024728</td>\n",
              "    </tr>\n",
              "    <tr>\n",
              "      <th>3</th>\n",
              "      <td>assists</td>\n",
              "      <td>0.010798</td>\n",
              "    </tr>\n",
              "    <tr>\n",
              "      <th>19</th>\n",
              "      <td>revives</td>\n",
              "      <td>0.007712</td>\n",
              "    </tr>\n",
              "  </tbody>\n",
              "</table>\n",
              "</div>"
            ],
            "text/plain": [
              "               cols       imp\n",
              "25     walkDistance  0.389821\n",
              "4            boosts  0.184126\n",
              "9         killPlace  0.160285\n",
              "26  weaponsAcquired  0.069802\n",
              "8             heals  0.054631\n",
              "5       damageDealt  0.032307\n",
              "13      longestKill  0.030936\n",
              "11            kills  0.024728\n",
              "3           assists  0.010798\n",
              "19          revives  0.007712"
            ]
          },
          "metadata": {
            "tags": []
          },
          "execution_count": 23
        }
      ]
    },
    {
      "metadata": {
        "colab_type": "code",
        "outputId": "bdb862db-2f3c-428d-d2fd-d17f2c05ba4d",
        "id": "Qm7VNjHZ8mCP",
        "colab": {
          "base_uri": "https://localhost:8080/",
          "height": 465
        }
      },
      "cell_type": "code",
      "source": [
        "fi[:20].plot('cols', 'imp', 'barh', figsize=(12,7), color='blue')"
      ],
      "execution_count": 0,
      "outputs": [
        {
          "output_type": "execute_result",
          "data": {
            "text/plain": [
              "<matplotlib.axes._subplots.AxesSubplot at 0x7f4045174780>"
            ]
          },
          "metadata": {
            "tags": []
          },
          "execution_count": 24
        },
        {
          "output_type": "display_data",
          "data": {
            "image/png": "[encoded data removed]",
            "text/plain": [
              "<matplotlib.figure.Figure at 0x7f404519ac18>"
            ]
          },
          "metadata": {
            "tags": []
          }
        }
      ]
    },
    {
      "metadata": {
        "id": "Z-onxFfWYZpQ",
        "colab_type": "code",
        "outputId": "f620dab7-df0a-4585-865f-631e7fb7d020",
        "colab": {
          "base_uri": "https://localhost:8080/",
          "height": 353
        }
      },
      "cell_type": "code",
      "source": [
        "to_keep = fi[fi.imp>0.001].cols;\n",
        "print(to_keep)\n",
        "print(len(to_keep))\n",
        "#This gives the top 19 features"
      ],
      "execution_count": 0,
      "outputs": [
        {
          "output_type": "stream",
          "text": [
            "25       walkDistance\n",
            "4              boosts\n",
            "9           killPlace\n",
            "26    weaponsAcquired\n",
            "8               heals\n",
            "5         damageDealt\n",
            "13        longestKill\n",
            "11              kills\n",
            "3             assists\n",
            "19            revives\n",
            "20       rideDistance\n",
            "16           maxPlace\n",
            "14      matchDuration\n",
            "17          numGroups\n",
            "12        killStreaks\n",
            "22       swimDistance\n",
            "6               DBNOs\n",
            "15          matchType\n",
            "Name: cols, dtype: object\n",
            "18\n"
          ],
          "name": "stdout"
        }
      ]
    },
    {
      "metadata": {
        "id": "bJILTR53ZQWH",
        "colab_type": "code",
        "outputId": "d076d404-9bdb-42e1-c5a8-deb7c9612945",
        "colab": {
          "base_uri": "https://localhost:8080/",
          "height": 420
        }
      },
      "cell_type": "code",
      "source": [
        "#Use only reduced columns of model to predict random forest \n",
        "df_keep = train_small[to_keep].copy()\n",
        "train_cats(df_keep)\n",
        "df_keep, _, nas = proc_df(df_keep, max_n_cat=7)\n",
        "print(df_keep.head())\n",
        "X_train, X_test, y_train, y_test = train_test_split(\n",
        "    df_keep, train_small.winPlacePerc, \n",
        "    test_size=0.5, random_state=42)\n",
        "print(\"X Train Shape: \" + str(X_train.shape))\n",
        "print(\"y Train Shape: \" + str(y_train.shape))\n",
        "print(\"X Test Shape: \" + str(X_test.shape))\n",
        "print(\"y Test Shape: \" + str(y_test.shape))"
      ],
      "execution_count": 0,
      "outputs": [
        {
          "output_type": "stream",
          "text": [
            "         walkDistance  boosts  killPlace  weaponsAcquired  heals  damageDealt  \\\n",
            "4289863         565.3       0          7                2      0        161.3   \n",
            "3353859         532.6       3          7                3      4        191.5   \n",
            "1660760        1607.0       2         24                6      1        100.0   \n",
            "2555773         134.6       0         86                1      0          0.0   \n",
            "363725         2131.0       2         14                5      9        289.9   \n",
            "\n",
            "         longestKill  kills  assists  revives  rideDistance  maxPlace  \\\n",
            "4289863        41.54      4        0        1           0.0        29   \n",
            "3353859         4.14      3        0        0        1580.0        40   \n",
            "1660760        64.25      1        0        0         450.7        97   \n",
            "2555773         0.00      0        0        0           0.0        27   \n",
            "363725         22.46      2        3        1        3950.0        28   \n",
            "\n",
            "         matchDuration  numGroups  killStreaks  swimDistance  DBNOs  matchType  \n",
            "4289863           1377         29            3           0.0      3         15  \n",
            "3353859            899         38            1           0.0      1          1  \n",
            "1660760           1324         97            1           0.0      0         13  \n",
            "2555773           1307         24            0           0.0      0         14  \n",
            "363725            1864         26            1           0.0      2         15  \n",
            "X Train Shape: (22235, 18)\n",
            "y Train Shape: (22235,)\n",
            "X Test Shape: (22235, 18)\n",
            "y Test Shape: (22235,)\n"
          ],
          "name": "stdout"
        }
      ]
    },
    {
      "metadata": {
        "id": "w-wYuSVcr5Hd",
        "colab_type": "code",
        "outputId": "552aa646-f1df-44ba-ff24-83f2e689e5c3",
        "colab": {
          "base_uri": "https://localhost:8080/",
          "height": 296
        }
      },
      "cell_type": "code",
      "source": [
        "df_keep_all=get_sample(df_keep.join(train_small.winPlacePerc), 500)\n",
        "sns.regplot(x=\"walkDistance\", y = 'winPlacePerc', data = df_keep_all, ci = 99)"
      ],
      "execution_count": 0,
      "outputs": [
        {
          "output_type": "execute_result",
          "data": {
            "text/plain": [
              "<matplotlib.axes._subplots.AxesSubplot at 0x7f40450d8240>"
            ]
          },
          "metadata": {
            "tags": []
          },
          "execution_count": 27
        },
        {
          "output_type": "display_data",
          "data": {
            "image/png": "[encoded data removed]",
            "text/plain": [
              "<matplotlib.figure.Figure at 0x7f4045021358>"
            ]
          },
          "metadata": {
            "tags": []
          }
        }
      ]
    },
    {
      "metadata": {
        "id": "l2eXI--szhoq",
        "colab_type": "code",
        "colab": {}
      },
      "cell_type": "code",
      "source": [
        "from pdpbox import pdp\n",
        "from plotnine import *\n",
        "import feather"
      ],
      "execution_count": 0,
      "outputs": []
    },
    {
      "metadata": {
        "id": "XMdrbZe9z2gj",
        "colab_type": "code",
        "colab": {}
      },
      "cell_type": "code",
      "source": [
        "def plot_pdp(feat, clusters = None, feat_name = None):\n",
        "  feat_name = feat_name or feat\n",
        "  p = pdp.pdp_isolate(m, x, model_features = x.columns,feature=feat)\n",
        "  return pdp.pdp_plot(p, feat_name, plot_lines = True,\n",
        "                     cluster = clusters is not None, n_cluster_centers = clusters)"
      ],
      "execution_count": 0,
      "outputs": []
    },
    {
      "metadata": {
        "id": "CjuxUt0nat3c",
        "colab_type": "code",
        "outputId": "9823bc8a-1faf-4b74-cd95-d0acda87bce6",
        "colab": {
          "base_uri": "https://localhost:8080/",
          "height": 84
        }
      },
      "cell_type": "code",
      "source": [
        "%%time \n",
        "set_rf_samples(10000)\n",
        "m = RandomForestRegressor(n_estimators = 10, \n",
        "                          random_state = 42,\n",
        "                          criterion = 'mae', n_jobs = 2, \n",
        "                          min_samples_leaf=100, \n",
        "                          max_features = 'sqrt')\n",
        "m.fit(X_train, y_train)\n",
        "print(m.score(X_train,y_train))\n",
        "print(mean_absolute_error(y_test, m.predict(X_test)))\n",
        "#learn here that removing some of the useless columns helps with model performance"
      ],
      "execution_count": 0,
      "outputs": [
        {
          "output_type": "stream",
          "text": [
            "0.8526298379588423\n",
            "0.08380092961547111\n",
            "CPU times: user 11.9 s, sys: 7.94 ms, total: 11.9 s\n",
            "Wall time: 6.24 s\n"
          ],
          "name": "stdout"
        }
      ]
    },
    {
      "metadata": {
        "id": "OnMakJys3hbR",
        "colab_type": "code",
        "outputId": "f0c925c0-2967-46cd-e34b-1bf0aa56c203",
        "colab": {
          "base_uri": "https://localhost:8080/",
          "height": 652
        }
      },
      "cell_type": "code",
      "source": [
        "x=get_sample(X_train, 500)\n",
        "plot_pdp(feat='walkDistance')"
      ],
      "execution_count": 0,
      "outputs": [
        {
          "output_type": "execute_result",
          "data": {
            "text/plain": [
              "(<matplotlib.figure.Figure at 0x7f40930e5e80>,\n",
              " {'pdp_ax': <matplotlib.axes._subplots.AxesSubplot at 0x7f403b34fa58>,\n",
              "  'title_ax': <matplotlib.axes._subplots.AxesSubplot at 0x7f403b39bf60>})"
            ]
          },
          "metadata": {
            "tags": []
          },
          "execution_count": 31
        },
        {
          "output_type": "display_data",
          "data": {
            "image/png": "[encoded data removed]",
            "text/plain": [
              "<matplotlib.figure.Figure at 0x7f40930e5e80>"
            ]
          },
          "metadata": {
            "tags": []
          }
        }
      ]
    },
    {
      "metadata": {
        "id": "ifiS7_wP69Dj",
        "colab_type": "code",
        "outputId": "9c53adca-3bc9-4064-a93f-8fd11d67a150",
        "colab": {
          "base_uri": "https://localhost:8080/",
          "height": 635
        }
      },
      "cell_type": "code",
      "source": [
        "feats = ['boosts', 'killPlace']\n",
        "p = pdp.pdp_interact(m, x, model_features = x.columns, features = feats)\n",
        "pdp.pdp_interact_plot(p, feats)"
      ],
      "execution_count": 0,
      "outputs": [
        {
          "output_type": "execute_result",
          "data": {
            "text/plain": [
              "(<matplotlib.figure.Figure at 0x7f40450980b8>,\n",
              " {'pdp_inter_ax': <matplotlib.axes._subplots.AxesSubplot at 0x7f4044256550>,\n",
              "  'title_ax': <matplotlib.axes._subplots.AxesSubplot at 0x7f4044301e48>})"
            ]
          },
          "metadata": {
            "tags": []
          },
          "execution_count": 32
        },
        {
          "output_type": "display_data",
          "data": {
            "image/png": "[encoded data removed]",
            "text/plain": [
              "<matplotlib.figure.Figure at 0x7f40450980b8>"
            ]
          },
          "metadata": {
            "tags": []
          }
        }
      ]
    },
    {
      "metadata": {
        "id": "iFkdX5AQCz8_",
        "colab_type": "code",
        "outputId": "d75ee319-8aab-4383-941e-73a20f7cec64",
        "colab": {
          "base_uri": "https://localhost:8080/",
          "height": 50
        }
      },
      "cell_type": "code",
      "source": [
        "%%time\n",
        "corr = np.round(scipy.stats.spearmanr(get_sample(df_keep, 1000)).correlation, 4)\n",
        "corr_condensed = hc.distance.squareform(1-corr)\n"
      ],
      "execution_count": 0,
      "outputs": [
        {
          "output_type": "stream",
          "text": [
            "CPU times: user 7.91 ms, sys: 1.01 ms, total: 8.91 ms\n",
            "Wall time: 9.06 ms\n"
          ],
          "name": "stdout"
        }
      ]
    },
    {
      "metadata": {
        "id": "3t0fv3ZVydvZ",
        "colab_type": "code",
        "outputId": "79945646-366b-4e8e-d1cf-2b64dcf6ca2d",
        "colab": {
          "base_uri": "https://localhost:8080/",
          "height": 646
        }
      },
      "cell_type": "code",
      "source": [
        "%%time\n",
        "z = hc.linkage(corr_condensed, method = 'average')\n",
        "fig = plt.figure(figsize=(16,10))\n",
        "dendogram = hc.dendrogram(z, labels = df_keep.columns, orientation='left', leaf_font_size = 16)\n",
        "plt.show()"
      ],
      "execution_count": 0,
      "outputs": [
        {
          "output_type": "display_data",
          "data": {
            "image/png": "[encoded data removed]",
            "text/plain": [
              "<matplotlib.figure.Figure at 0x7f40441f4e80>"
            ]
          },
          "metadata": {
            "tags": []
          }
        },
        {
          "output_type": "stream",
          "text": [
            "CPU times: user 387 ms, sys: 189 ms, total: 576 ms\n",
            "Wall time: 335 ms\n"
          ],
          "name": "stdout"
        }
      ]
    },
    {
      "metadata": {
        "id": "ALPCZN5DiU57",
        "colab_type": "text"
      },
      "cell_type": "markdown",
      "source": [
        "The dendogram plot shows that several of the variables are quite related:\n",
        "\n",
        "\n",
        "*   kills - killStreaks\n",
        "*   numGroups - maxPlace\n",
        "\n",
        "Inicate we should investiate what these variables mean to see if we can eliminate any of them or consolidate them into more relevant features\n",
        "\n"
      ]
    },
    {
      "metadata": {
        "id": "0hyyaepZiUmp",
        "colab_type": "code",
        "colab": {}
      },
      "cell_type": "code",
      "source": [
        "def get_oob(X_train, y_train):\n",
        "    m = RandomForestRegressor(n_estimators = 10, \n",
        "                          random_state = 42,\n",
        "                          criterion = 'mae', n_jobs = 2, \n",
        "                          min_samples_leaf=100, \n",
        "                          max_features = 'sqrt',\n",
        "                             oob_score = True)\n",
        "    m.fit(X_train, y_train)\n",
        "    return m.oob_score_"
      ],
      "execution_count": 0,
      "outputs": []
    },
    {
      "metadata": {
        "id": "cLljuYaelL_K",
        "colab_type": "code",
        "outputId": "95256990-f767-4bf0-864c-d20921532e82",
        "colab": {
          "base_uri": "https://localhost:8080/",
          "height": 101
        }
      },
      "cell_type": "code",
      "source": [
        "df_keep.columns"
      ],
      "execution_count": 0,
      "outputs": [
        {
          "output_type": "execute_result",
          "data": {
            "text/plain": [
              "Index(['walkDistance', 'boosts', 'killPlace', 'weaponsAcquired', 'heals',\n",
              "       'damageDealt', 'longestKill', 'kills', 'assists', 'revives',\n",
              "       'rideDistance', 'maxPlace', 'matchDuration', 'numGroups', 'killStreaks',\n",
              "       'swimDistance', 'DBNOs', 'matchType'],\n",
              "      dtype='object')"
            ]
          },
          "metadata": {
            "tags": []
          },
          "execution_count": 36
        }
      ]
    },
    {
      "metadata": {
        "id": "A5eR3eICjBBK",
        "colab_type": "code",
        "outputId": "6c19b855-cc71-41ce-fa71-3df9d6505838",
        "colab": {
          "base_uri": "https://localhost:8080/",
          "height": 34
        }
      },
      "cell_type": "code",
      "source": [
        "#Recall that df_keep has a reduced number of columns that are relevant to selecting a winner\n",
        "#Get a baseline\n",
        "get_oob(X_train, y_train)"
      ],
      "execution_count": 0,
      "outputs": [
        {
          "output_type": "execute_result",
          "data": {
            "text/plain": [
              "0.8441013417079838"
            ]
          },
          "metadata": {
            "tags": []
          },
          "execution_count": 37
        }
      ]
    },
    {
      "metadata": {
        "id": "RZJ-6UvHkNFM",
        "colab_type": "code",
        "outputId": "9dd7f95c-c43f-4f48-aa59-9523b56a8dad",
        "colab": {
          "base_uri": "https://localhost:8080/",
          "height": 84
        }
      },
      "cell_type": "code",
      "source": [
        "for c in ('kills', 'killStreaks', 'numGroups', 'maxPlace'):\n",
        "  print(c, get_oob(X_train.drop(c, axis = 1), y_train))"
      ],
      "execution_count": 0,
      "outputs": [
        {
          "output_type": "stream",
          "text": [
            "kills 0.8343857201768956\n",
            "killStreaks 0.8285053643306607\n",
            "numGroups 0.8369373244815427\n",
            "maxPlace 0.8355290518884595\n"
          ],
          "name": "stdout"
        }
      ]
    },
    {
      "metadata": {
        "id": "pk5sFTS1rXfM",
        "colab_type": "code",
        "outputId": "bdeab744-9a29-41ee-f06b-a4c909d62c23",
        "colab": {
          "base_uri": "https://localhost:8080/",
          "height": 34
        }
      },
      "cell_type": "code",
      "source": [
        "to_drop = ['kills', 'numGroups']\n",
        "get_oob(X_train.drop(to_drop, axis = 1), y_train)"
      ],
      "execution_count": 0,
      "outputs": [
        {
          "output_type": "execute_result",
          "data": {
            "text/plain": [
              "0.8430797075542273"
            ]
          },
          "metadata": {
            "tags": []
          },
          "execution_count": 39
        }
      ]
    },
    {
      "metadata": {
        "id": "6vjoWU-krvJ6",
        "colab_type": "code",
        "outputId": "7535305e-e709-4804-f7d6-a536cf1ec80f",
        "colab": {
          "base_uri": "https://localhost:8080/",
          "height": 84
        }
      },
      "cell_type": "code",
      "source": [
        "#Use only reduced columns of model to predict random forest \n",
        "#df_keep = df_keep.drop(to_drop, axis = 1)\n",
        "X_train, X_test, y_train, y_test = train_test_split(\n",
        "    df_keep, train_small.winPlacePerc, \n",
        "    test_size=0.5, random_state=42)\n",
        "print(X_train.shape); \n",
        "print(y_train.shape);\n",
        "print(X_test.shape); \n",
        "print(y_test.shape);"
      ],
      "execution_count": 0,
      "outputs": [
        {
          "output_type": "stream",
          "text": [
            "(22235, 18)\n",
            "(22235,)\n",
            "(22235, 18)\n",
            "(22235,)\n"
          ],
          "name": "stdout"
        }
      ]
    },
    {
      "metadata": {
        "id": "lG9REKkqsGKd",
        "colab_type": "code",
        "outputId": "d1f3e09b-1567-4353-bf8d-d444e3644c79",
        "colab": {
          "base_uri": "https://localhost:8080/",
          "height": 101
        }
      },
      "cell_type": "code",
      "source": [
        "%%time\n",
        "m = RandomForestRegressor(n_estimators = 10, \n",
        "                          random_state = 42,\n",
        "                          criterion = 'mae', n_jobs = 2, \n",
        "                          min_samples_leaf=100, \n",
        "                          max_features = 'sqrt',\n",
        "                         oob_score = True)\n",
        "m.fit(X_train, y_train)\n",
        "print_score(m, X_train, y_train, X_test, y_test)"
      ],
      "execution_count": 0,
      "outputs": [
        {
          "output_type": "stream",
          "text": [
            "R**2 Score of model: 0.8526298379588423\n",
            "Mean Abs Error: 0.0838009296154711\n",
            "OOB Score: 0.8441013417079838\n",
            "CPU times: user 16.8 s, sys: 15.5 ms, total: 16.8 s\n",
            "Wall time: 8.78 s\n"
          ],
          "name": "stdout"
        }
      ]
    },
    {
      "metadata": {
        "id": "vpV25Rxq2tJv",
        "colab_type": "code",
        "colab": {}
      },
      "cell_type": "code",
      "source": [
        "df_ext_trn = train_small[to_keep].copy()\n",
        "df_ext_vld = valid_small[to_keep].copy()\n",
        "df_ext_trn['is_valid']=0\n",
        "df_ext_vld['is_valid']=1"
      ],
      "execution_count": 0,
      "outputs": []
    },
    {
      "metadata": {
        "id": "s9RheSnZcQt5",
        "colab_type": "code",
        "colab": {}
      },
      "cell_type": "code",
      "source": [
        "to_drop = ['kills', 'numGroups']\n",
        "all_data=df_ext_trn.append(df_ext_vld)\n",
        "all_data = all_data.drop(to_drop, axis = 1)\n",
        "train_cats(all_data)\n",
        "df, y, nas = proc_df(all_data, 'is_valid', max_n_cat=3)"
      ],
      "execution_count": 0,
      "outputs": []
    },
    {
      "metadata": {
        "id": "UUtVt9ipgFBQ",
        "colab_type": "code",
        "outputId": "5b4d9874-a43c-4989-ec75-4049cf5776f0",
        "colab": {
          "base_uri": "https://localhost:8080/",
          "height": 101
        }
      },
      "cell_type": "code",
      "source": [
        "all_data.columns"
      ],
      "execution_count": 0,
      "outputs": [
        {
          "output_type": "execute_result",
          "data": {
            "text/plain": [
              "Index(['walkDistance', 'boosts', 'killPlace', 'weaponsAcquired', 'heals',\n",
              "       'damageDealt', 'longestKill', 'assists', 'revives', 'rideDistance',\n",
              "       'maxPlace', 'matchDuration', 'killStreaks', 'swimDistance', 'DBNOs',\n",
              "       'matchType', 'is_valid'],\n",
              "      dtype='object')"
            ]
          },
          "metadata": {
            "tags": []
          },
          "execution_count": 44
        }
      ]
    },
    {
      "metadata": {
        "id": "myNfpcpAfgnq",
        "colab_type": "code",
        "outputId": "fd520c5a-ffd4-4d69-91f6-19a8b46f70d6",
        "colab": {
          "base_uri": "https://localhost:8080/",
          "height": 34
        }
      },
      "cell_type": "code",
      "source": [
        "m = RandomForestClassifier(n_estimators=40, min_samples_leaf=3, max_features=0.5, n_jobs=-1, oob_score=True)\n",
        "m.fit(df,y);\n",
        "m.oob_score_"
      ],
      "execution_count": 0,
      "outputs": [
        {
          "output_type": "execute_result",
          "data": {
            "text/plain": [
              "0.6941954491318247"
            ]
          },
          "metadata": {
            "tags": []
          },
          "execution_count": 45
        }
      ]
    },
    {
      "metadata": {
        "id": "OwyRvl2Lg6ko",
        "colab_type": "text"
      },
      "cell_type": "markdown",
      "source": [
        "This score indicates that the testing data IS randomized and not time dependent on particular variables, possibly, need to investigate feature importance"
      ]
    },
    {
      "metadata": {
        "id": "Mgyf-UzYg5HN",
        "colab_type": "code",
        "outputId": "715774a0-0e0c-4420-a910-ac11b8674f35",
        "colab": {
          "base_uri": "https://localhost:8080/",
          "height": 343
        }
      },
      "cell_type": "code",
      "source": [
        "fi = rf_feat_importance(m, df); fi[:10]"
      ],
      "execution_count": 0,
      "outputs": [
        {
          "output_type": "execute_result",
          "data": {
            "text/html": [
              "<div>\n",
              "<style scoped>\n",
              "    .dataframe tbody tr th:only-of-type {\n",
              "        vertical-align: middle;\n",
              "    }\n",
              "\n",
              "    .dataframe tbody tr th {\n",
              "        vertical-align: top;\n",
              "    }\n",
              "\n",
              "    .dataframe thead th {\n",
              "        text-align: right;\n",
              "    }\n",
              "</style>\n",
              "<table border=\"1\" class=\"dataframe\">\n",
              "  <thead>\n",
              "    <tr style=\"text-align: right;\">\n",
              "      <th></th>\n",
              "      <th>cols</th>\n",
              "      <th>imp</th>\n",
              "    </tr>\n",
              "  </thead>\n",
              "  <tbody>\n",
              "    <tr>\n",
              "      <th>0</th>\n",
              "      <td>walkDistance</td>\n",
              "      <td>0.183321</td>\n",
              "    </tr>\n",
              "    <tr>\n",
              "      <th>11</th>\n",
              "      <td>matchDuration</td>\n",
              "      <td>0.175187</td>\n",
              "    </tr>\n",
              "    <tr>\n",
              "      <th>2</th>\n",
              "      <td>killPlace</td>\n",
              "      <td>0.122937</td>\n",
              "    </tr>\n",
              "    <tr>\n",
              "      <th>5</th>\n",
              "      <td>damageDealt</td>\n",
              "      <td>0.118449</td>\n",
              "    </tr>\n",
              "    <tr>\n",
              "      <th>10</th>\n",
              "      <td>maxPlace</td>\n",
              "      <td>0.084960</td>\n",
              "    </tr>\n",
              "    <tr>\n",
              "      <th>6</th>\n",
              "      <td>longestKill</td>\n",
              "      <td>0.067690</td>\n",
              "    </tr>\n",
              "    <tr>\n",
              "      <th>3</th>\n",
              "      <td>weaponsAcquired</td>\n",
              "      <td>0.056042</td>\n",
              "    </tr>\n",
              "    <tr>\n",
              "      <th>9</th>\n",
              "      <td>rideDistance</td>\n",
              "      <td>0.042147</td>\n",
              "    </tr>\n",
              "    <tr>\n",
              "      <th>15</th>\n",
              "      <td>matchType</td>\n",
              "      <td>0.032759</td>\n",
              "    </tr>\n",
              "    <tr>\n",
              "      <th>4</th>\n",
              "      <td>heals</td>\n",
              "      <td>0.032547</td>\n",
              "    </tr>\n",
              "  </tbody>\n",
              "</table>\n",
              "</div>"
            ],
            "text/plain": [
              "               cols       imp\n",
              "0      walkDistance  0.183321\n",
              "11    matchDuration  0.175187\n",
              "2         killPlace  0.122937\n",
              "5       damageDealt  0.118449\n",
              "10         maxPlace  0.084960\n",
              "6       longestKill  0.067690\n",
              "3   weaponsAcquired  0.056042\n",
              "9      rideDistance  0.042147\n",
              "15        matchType  0.032759\n",
              "4             heals  0.032547"
            ]
          },
          "metadata": {
            "tags": []
          },
          "execution_count": 46
        }
      ]
    },
    {
      "metadata": {
        "id": "5XV-8n8NhaN1",
        "colab_type": "text"
      },
      "cell_type": "markdown",
      "source": [
        "Check each of these to see how they compare between training and testing datasets"
      ]
    },
    {
      "metadata": {
        "id": "kevm-FlEhZPa",
        "colab_type": "code",
        "outputId": "d06e9d31-f1e6-44a7-d33d-b9b6e8754479",
        "colab": {
          "base_uri": "https://localhost:8080/",
          "height": 284
        }
      },
      "cell_type": "code",
      "source": [
        "feats = ['walkDistance', 'matchDuration','killPlace', 'damageDealt']\n",
        "train_small[feats].describe()"
      ],
      "execution_count": 0,
      "outputs": [
        {
          "output_type": "execute_result",
          "data": {
            "text/html": [
              "<div>\n",
              "<style scoped>\n",
              "    .dataframe tbody tr th:only-of-type {\n",
              "        vertical-align: middle;\n",
              "    }\n",
              "\n",
              "    .dataframe tbody tr th {\n",
              "        vertical-align: top;\n",
              "    }\n",
              "\n",
              "    .dataframe thead th {\n",
              "        text-align: right;\n",
              "    }\n",
              "</style>\n",
              "<table border=\"1\" class=\"dataframe\">\n",
              "  <thead>\n",
              "    <tr style=\"text-align: right;\">\n",
              "      <th></th>\n",
              "      <th>walkDistance</th>\n",
              "      <th>matchDuration</th>\n",
              "      <th>killPlace</th>\n",
              "      <th>damageDealt</th>\n",
              "    </tr>\n",
              "  </thead>\n",
              "  <tbody>\n",
              "    <tr>\n",
              "      <th>count</th>\n",
              "      <td>44470.000000</td>\n",
              "      <td>44470.000000</td>\n",
              "      <td>44470.000000</td>\n",
              "      <td>44470.000000</td>\n",
              "    </tr>\n",
              "    <tr>\n",
              "      <th>mean</th>\n",
              "      <td>1147.854288</td>\n",
              "      <td>1579.802856</td>\n",
              "      <td>47.642725</td>\n",
              "      <td>130.102363</td>\n",
              "    </tr>\n",
              "    <tr>\n",
              "      <th>std</th>\n",
              "      <td>1178.455193</td>\n",
              "      <td>259.680125</td>\n",
              "      <td>27.379856</td>\n",
              "      <td>170.659137</td>\n",
              "    </tr>\n",
              "    <tr>\n",
              "      <th>min</th>\n",
              "      <td>0.000000</td>\n",
              "      <td>352.000000</td>\n",
              "      <td>1.000000</td>\n",
              "      <td>0.000000</td>\n",
              "    </tr>\n",
              "    <tr>\n",
              "      <th>25%</th>\n",
              "      <td>157.800000</td>\n",
              "      <td>1367.000000</td>\n",
              "      <td>24.000000</td>\n",
              "      <td>0.000000</td>\n",
              "    </tr>\n",
              "    <tr>\n",
              "      <th>50%</th>\n",
              "      <td>683.650000</td>\n",
              "      <td>1439.000000</td>\n",
              "      <td>48.000000</td>\n",
              "      <td>84.000000</td>\n",
              "    </tr>\n",
              "    <tr>\n",
              "      <th>75%</th>\n",
              "      <td>1961.000000</td>\n",
              "      <td>1852.000000</td>\n",
              "      <td>71.000000</td>\n",
              "      <td>183.800000</td>\n",
              "    </tr>\n",
              "    <tr>\n",
              "      <th>max</th>\n",
              "      <td>11190.000000</td>\n",
              "      <td>2214.000000</td>\n",
              "      <td>100.000000</td>\n",
              "      <td>4014.000000</td>\n",
              "    </tr>\n",
              "  </tbody>\n",
              "</table>\n",
              "</div>"
            ],
            "text/plain": [
              "       walkDistance  matchDuration     killPlace   damageDealt\n",
              "count  44470.000000   44470.000000  44470.000000  44470.000000\n",
              "mean    1147.854288    1579.802856     47.642725    130.102363\n",
              "std     1178.455193     259.680125     27.379856    170.659137\n",
              "min        0.000000     352.000000      1.000000      0.000000\n",
              "25%      157.800000    1367.000000     24.000000      0.000000\n",
              "50%      683.650000    1439.000000     48.000000     84.000000\n",
              "75%     1961.000000    1852.000000     71.000000    183.800000\n",
              "max    11190.000000    2214.000000    100.000000   4014.000000"
            ]
          },
          "metadata": {
            "tags": []
          },
          "execution_count": 47
        }
      ]
    },
    {
      "metadata": {
        "id": "65o75rsWhpWd",
        "colab_type": "code",
        "outputId": "44b0c1a2-d8d9-48c3-93ca-435c2f70cbc1",
        "colab": {
          "base_uri": "https://localhost:8080/",
          "height": 284
        }
      },
      "cell_type": "code",
      "source": [
        "valid_small[feats].describe()"
      ],
      "execution_count": 0,
      "outputs": [
        {
          "output_type": "execute_result",
          "data": {
            "text/html": [
              "<div>\n",
              "<style scoped>\n",
              "    .dataframe tbody tr th:only-of-type {\n",
              "        vertical-align: middle;\n",
              "    }\n",
              "\n",
              "    .dataframe tbody tr th {\n",
              "        vertical-align: top;\n",
              "    }\n",
              "\n",
              "    .dataframe thead th {\n",
              "        text-align: right;\n",
              "    }\n",
              "</style>\n",
              "<table border=\"1\" class=\"dataframe\">\n",
              "  <thead>\n",
              "    <tr style=\"text-align: right;\">\n",
              "      <th></th>\n",
              "      <th>walkDistance</th>\n",
              "      <th>matchDuration</th>\n",
              "      <th>killPlace</th>\n",
              "      <th>damageDealt</th>\n",
              "    </tr>\n",
              "  </thead>\n",
              "  <tbody>\n",
              "    <tr>\n",
              "      <th>count</th>\n",
              "      <td>19342.000000</td>\n",
              "      <td>19342.000000</td>\n",
              "      <td>19342.000000</td>\n",
              "      <td>19342.000000</td>\n",
              "    </tr>\n",
              "    <tr>\n",
              "      <th>mean</th>\n",
              "      <td>1149.924302</td>\n",
              "      <td>1576.293610</td>\n",
              "      <td>47.583600</td>\n",
              "      <td>129.969836</td>\n",
              "    </tr>\n",
              "    <tr>\n",
              "      <th>std</th>\n",
              "      <td>1184.290106</td>\n",
              "      <td>255.944709</td>\n",
              "      <td>27.504754</td>\n",
              "      <td>168.887796</td>\n",
              "    </tr>\n",
              "    <tr>\n",
              "      <th>min</th>\n",
              "      <td>0.000000</td>\n",
              "      <td>598.000000</td>\n",
              "      <td>1.000000</td>\n",
              "      <td>0.000000</td>\n",
              "    </tr>\n",
              "    <tr>\n",
              "      <th>25%</th>\n",
              "      <td>157.900000</td>\n",
              "      <td>1366.000000</td>\n",
              "      <td>24.000000</td>\n",
              "      <td>0.000000</td>\n",
              "    </tr>\n",
              "    <tr>\n",
              "      <th>50%</th>\n",
              "      <td>669.350000</td>\n",
              "      <td>1436.000000</td>\n",
              "      <td>47.000000</td>\n",
              "      <td>83.850000</td>\n",
              "    </tr>\n",
              "    <tr>\n",
              "      <th>75%</th>\n",
              "      <td>1971.500000</td>\n",
              "      <td>1849.000000</td>\n",
              "      <td>71.000000</td>\n",
              "      <td>185.000000</td>\n",
              "    </tr>\n",
              "    <tr>\n",
              "      <th>max</th>\n",
              "      <td>11170.000000</td>\n",
              "      <td>2217.000000</td>\n",
              "      <td>100.000000</td>\n",
              "      <td>2212.000000</td>\n",
              "    </tr>\n",
              "  </tbody>\n",
              "</table>\n",
              "</div>"
            ],
            "text/plain": [
              "       walkDistance  matchDuration     killPlace   damageDealt\n",
              "count  19342.000000   19342.000000  19342.000000  19342.000000\n",
              "mean    1149.924302    1576.293610     47.583600    129.969836\n",
              "std     1184.290106     255.944709     27.504754    168.887796\n",
              "min        0.000000     598.000000      1.000000      0.000000\n",
              "25%      157.900000    1366.000000     24.000000      0.000000\n",
              "50%      669.350000    1436.000000     47.000000     83.850000\n",
              "75%     1971.500000    1849.000000     71.000000    185.000000\n",
              "max    11170.000000    2217.000000    100.000000   2212.000000"
            ]
          },
          "metadata": {
            "tags": []
          },
          "execution_count": 48
        }
      ]
    },
    {
      "metadata": {
        "id": "-F3BZsgBhvTU",
        "colab_type": "text"
      },
      "cell_type": "markdown",
      "source": [
        "No real significant difference here between the two, importantly 'GroupID' and 'Id' do not have any time dependent nature or relevancy in differentiating between testing and validation set\n",
        "\n",
        "Take away is keep all the above columns in to_keep "
      ]
    },
    {
      "metadata": {
        "id": "5l4eoCQPtGFy",
        "colab_type": "code",
        "outputId": "12bd8197-2de0-4173-d3fa-035230adc4be",
        "colab": {
          "base_uri": "https://localhost:8080/",
          "height": 134
        }
      },
      "cell_type": "code",
      "source": [
        "train_small.columns"
      ],
      "execution_count": 0,
      "outputs": [
        {
          "output_type": "execute_result",
          "data": {
            "text/plain": [
              "Index(['Id', 'groupId', 'matchId', 'assists', 'boosts', 'damageDealt', 'DBNOs',\n",
              "       'headshotKills', 'heals', 'killPlace', 'killPoints', 'kills',\n",
              "       'killStreaks', 'longestKill', 'matchDuration', 'matchType', 'maxPlace',\n",
              "       'numGroups', 'rankPoints', 'revives', 'rideDistance', 'roadKills',\n",
              "       'swimDistance', 'teamKills', 'vehicleDestroys', 'walkDistance',\n",
              "       'weaponsAcquired', 'winPoints', 'winPlacePerc'],\n",
              "      dtype='object')"
            ]
          },
          "metadata": {
            "tags": []
          },
          "execution_count": 49
        }
      ]
    },
    {
      "metadata": {
        "id": "1R0B7dgthuyF",
        "colab_type": "code",
        "outputId": "25c4ca78-aebd-4728-c517-b50ccb401eb0",
        "colab": {
          "base_uri": "https://localhost:8080/",
          "height": 50
        }
      },
      "cell_type": "code",
      "source": [
        "%%time\n",
        "df, y, nas = proc_df(train_small, 'winPlacePerc')\n",
        "X_train, X_test, y_train, y_test = train_test_split(\n",
        "   df, y, \n",
        "    test_size=0.5, random_state=42)\n",
        "\n",
        "feats = ['Id','groupId','matchId','walkDistance', 'matchDuration','killPlace', 'damageDealt', \n",
        "         'maxPlace', 'matchDuration', 'numGroups', 'killStreaks', 'kills', 'winPoints']\n",
        "res = pd.DataFrame([],columns = ['Feature', 'R**2', 'MAE','OOB'])\n",
        "\n",
        "for f in feats:\n",
        "    df_subs = X_train.drop(f, axis = 1)\n",
        "    \n",
        "    df_test = X_test.drop(f, axis = 1)\n",
        "    m = RandomForestRegressor(n_estimators = 10, \n",
        "                          random_state = 42,\n",
        "                          criterion = 'mae', n_jobs = 2, \n",
        "                          min_samples_leaf=100, \n",
        "                          max_features = 'sqrt', oob_score = True)\n",
        "    m.fit(df_subs, y_train)\n",
        "    r2, mae, oob = print_score(m, df_subs,y_train, df_test, y_test, verbose = False)\n",
        "    res = res.append(pd.DataFrame({'Feature':[f], 'R**2':[r2], \"MAE\":[mae], 'OOB':oob}))\n",
        "\n",
        "res.set_index('Feature')    \n",
        "res.sort_values(by='MAE')\n",
        "    \n",
        "    "
      ],
      "execution_count": 0,
      "outputs": [
        {
          "output_type": "stream",
          "text": [
            "CPU times: user 3min 23s, sys: 108 ms, total: 3min 23s\n",
            "Wall time: 1min 46s\n"
          ],
          "name": "stdout"
        }
      ]
    },
    {
      "metadata": {
        "id": "USKdSyKT4qal",
        "colab_type": "code",
        "outputId": "80652cae-c935-4661-8bb7-f9083ae40250",
        "colab": {
          "base_uri": "https://localhost:8080/",
          "height": 432
        }
      },
      "cell_type": "code",
      "source": [
        "res.sort_values(by='MAE')"
      ],
      "execution_count": 0,
      "outputs": [
        {
          "output_type": "execute_result",
          "data": {
            "text/html": [
              "<div>\n",
              "<style scoped>\n",
              "    .dataframe tbody tr th:only-of-type {\n",
              "        vertical-align: middle;\n",
              "    }\n",
              "\n",
              "    .dataframe tbody tr th {\n",
              "        vertical-align: top;\n",
              "    }\n",
              "\n",
              "    .dataframe thead th {\n",
              "        text-align: right;\n",
              "    }\n",
              "</style>\n",
              "<table border=\"1\" class=\"dataframe\">\n",
              "  <thead>\n",
              "    <tr style=\"text-align: right;\">\n",
              "      <th></th>\n",
              "      <th>Feature</th>\n",
              "      <th>MAE</th>\n",
              "      <th>OOB</th>\n",
              "      <th>R**2</th>\n",
              "    </tr>\n",
              "  </thead>\n",
              "  <tbody>\n",
              "    <tr>\n",
              "      <th>0</th>\n",
              "      <td>winPoints</td>\n",
              "      <td>0.087405</td>\n",
              "      <td>0.836387</td>\n",
              "      <td>0.845698</td>\n",
              "    </tr>\n",
              "    <tr>\n",
              "      <th>0</th>\n",
              "      <td>numGroups</td>\n",
              "      <td>0.087413</td>\n",
              "      <td>0.833555</td>\n",
              "      <td>0.844104</td>\n",
              "    </tr>\n",
              "    <tr>\n",
              "      <th>0</th>\n",
              "      <td>maxPlace</td>\n",
              "      <td>0.088837</td>\n",
              "      <td>0.830300</td>\n",
              "      <td>0.841144</td>\n",
              "    </tr>\n",
              "    <tr>\n",
              "      <th>0</th>\n",
              "      <td>matchDuration</td>\n",
              "      <td>0.088979</td>\n",
              "      <td>0.830083</td>\n",
              "      <td>0.840889</td>\n",
              "    </tr>\n",
              "    <tr>\n",
              "      <th>0</th>\n",
              "      <td>matchDuration</td>\n",
              "      <td>0.088979</td>\n",
              "      <td>0.830083</td>\n",
              "      <td>0.840889</td>\n",
              "    </tr>\n",
              "    <tr>\n",
              "      <th>0</th>\n",
              "      <td>matchId</td>\n",
              "      <td>0.089140</td>\n",
              "      <td>0.827792</td>\n",
              "      <td>0.839343</td>\n",
              "    </tr>\n",
              "    <tr>\n",
              "      <th>0</th>\n",
              "      <td>Id</td>\n",
              "      <td>0.089972</td>\n",
              "      <td>0.823400</td>\n",
              "      <td>0.835575</td>\n",
              "    </tr>\n",
              "    <tr>\n",
              "      <th>0</th>\n",
              "      <td>groupId</td>\n",
              "      <td>0.090046</td>\n",
              "      <td>0.823855</td>\n",
              "      <td>0.836111</td>\n",
              "    </tr>\n",
              "    <tr>\n",
              "      <th>0</th>\n",
              "      <td>damageDealt</td>\n",
              "      <td>0.090528</td>\n",
              "      <td>0.824898</td>\n",
              "      <td>0.836602</td>\n",
              "    </tr>\n",
              "    <tr>\n",
              "      <th>0</th>\n",
              "      <td>kills</td>\n",
              "      <td>0.090549</td>\n",
              "      <td>0.823300</td>\n",
              "      <td>0.835384</td>\n",
              "    </tr>\n",
              "    <tr>\n",
              "      <th>0</th>\n",
              "      <td>killStreaks</td>\n",
              "      <td>0.090877</td>\n",
              "      <td>0.823803</td>\n",
              "      <td>0.835582</td>\n",
              "    </tr>\n",
              "    <tr>\n",
              "      <th>0</th>\n",
              "      <td>walkDistance</td>\n",
              "      <td>0.103940</td>\n",
              "      <td>0.781221</td>\n",
              "      <td>0.794467</td>\n",
              "    </tr>\n",
              "    <tr>\n",
              "      <th>0</th>\n",
              "      <td>killPlace</td>\n",
              "      <td>0.105998</td>\n",
              "      <td>0.766031</td>\n",
              "      <td>0.777677</td>\n",
              "    </tr>\n",
              "  </tbody>\n",
              "</table>\n",
              "</div>"
            ],
            "text/plain": [
              "         Feature       MAE       OOB      R**2\n",
              "0      winPoints  0.087405  0.836387  0.845698\n",
              "0      numGroups  0.087413  0.833555  0.844104\n",
              "0       maxPlace  0.088837  0.830300  0.841144\n",
              "0  matchDuration  0.088979  0.830083  0.840889\n",
              "0  matchDuration  0.088979  0.830083  0.840889\n",
              "0        matchId  0.089140  0.827792  0.839343\n",
              "0             Id  0.089972  0.823400  0.835575\n",
              "0        groupId  0.090046  0.823855  0.836111\n",
              "0    damageDealt  0.090528  0.824898  0.836602\n",
              "0          kills  0.090549  0.823300  0.835384\n",
              "0    killStreaks  0.090877  0.823803  0.835582\n",
              "0   walkDistance  0.103940  0.781221  0.794467\n",
              "0      killPlace  0.105998  0.766031  0.777677"
            ]
          },
          "metadata": {
            "tags": []
          },
          "execution_count": 51
        }
      ]
    },
    {
      "metadata": {
        "id": "1CbVrE4jAkfL",
        "colab_type": "code",
        "outputId": "705770eb-fac3-4e13-e8c2-973039959cb7",
        "colab": {
          "base_uri": "https://localhost:8080/",
          "height": 336
        }
      },
      "cell_type": "code",
      "source": [
        "to_keep"
      ],
      "execution_count": 0,
      "outputs": [
        {
          "output_type": "execute_result",
          "data": {
            "text/plain": [
              "25       walkDistance\n",
              "4              boosts\n",
              "9           killPlace\n",
              "26    weaponsAcquired\n",
              "8               heals\n",
              "5         damageDealt\n",
              "13        longestKill\n",
              "11              kills\n",
              "3             assists\n",
              "19            revives\n",
              "20       rideDistance\n",
              "16           maxPlace\n",
              "14      matchDuration\n",
              "17          numGroups\n",
              "12        killStreaks\n",
              "22       swimDistance\n",
              "6               DBNOs\n",
              "15          matchType\n",
              "Name: cols, dtype: object"
            ]
          },
          "metadata": {
            "tags": []
          },
          "execution_count": 52
        }
      ]
    },
    {
      "metadata": {
        "id": "aS-FsxNwAzQO",
        "colab_type": "code",
        "outputId": "bfd2646e-68d6-46db-a233-34a3162dd290",
        "colab": {
          "base_uri": "https://localhost:8080/",
          "height": 1902
        }
      },
      "cell_type": "code",
      "source": [
        "train[to_keep]"
      ],
      "execution_count": 0,
      "outputs": [
        {
          "output_type": "execute_result",
          "data": {
            "text/html": [
              "<div>\n",
              "<style scoped>\n",
              "    .dataframe tbody tr th:only-of-type {\n",
              "        vertical-align: middle;\n",
              "    }\n",
              "\n",
              "    .dataframe tbody tr th {\n",
              "        vertical-align: top;\n",
              "    }\n",
              "\n",
              "    .dataframe thead th {\n",
              "        text-align: right;\n",
              "    }\n",
              "</style>\n",
              "<table border=\"1\" class=\"dataframe\">\n",
              "  <thead>\n",
              "    <tr style=\"text-align: right;\">\n",
              "      <th></th>\n",
              "      <th>walkDistance</th>\n",
              "      <th>boosts</th>\n",
              "      <th>killPlace</th>\n",
              "      <th>weaponsAcquired</th>\n",
              "      <th>heals</th>\n",
              "      <th>damageDealt</th>\n",
              "      <th>longestKill</th>\n",
              "      <th>kills</th>\n",
              "      <th>assists</th>\n",
              "      <th>revives</th>\n",
              "      <th>rideDistance</th>\n",
              "      <th>maxPlace</th>\n",
              "      <th>matchDuration</th>\n",
              "      <th>numGroups</th>\n",
              "      <th>killStreaks</th>\n",
              "      <th>swimDistance</th>\n",
              "      <th>DBNOs</th>\n",
              "      <th>matchType</th>\n",
              "    </tr>\n",
              "  </thead>\n",
              "  <tbody>\n",
              "    <tr>\n",
              "      <th>0</th>\n",
              "      <td>244.80</td>\n",
              "      <td>0</td>\n",
              "      <td>60</td>\n",
              "      <td>1</td>\n",
              "      <td>0</td>\n",
              "      <td>0.000</td>\n",
              "      <td>0.000</td>\n",
              "      <td>0</td>\n",
              "      <td>0</td>\n",
              "      <td>0</td>\n",
              "      <td>0.0000</td>\n",
              "      <td>28</td>\n",
              "      <td>1306</td>\n",
              "      <td>26</td>\n",
              "      <td>0</td>\n",
              "      <td>0.000</td>\n",
              "      <td>0</td>\n",
              "      <td>squad-fpp</td>\n",
              "    </tr>\n",
              "    <tr>\n",
              "      <th>1</th>\n",
              "      <td>1434.00</td>\n",
              "      <td>0</td>\n",
              "      <td>57</td>\n",
              "      <td>5</td>\n",
              "      <td>0</td>\n",
              "      <td>91.470</td>\n",
              "      <td>0.000</td>\n",
              "      <td>0</td>\n",
              "      <td>0</td>\n",
              "      <td>0</td>\n",
              "      <td>0.0045</td>\n",
              "      <td>26</td>\n",
              "      <td>1777</td>\n",
              "      <td>25</td>\n",
              "      <td>0</td>\n",
              "      <td>11.040</td>\n",
              "      <td>0</td>\n",
              "      <td>squad-fpp</td>\n",
              "    </tr>\n",
              "    <tr>\n",
              "      <th>2</th>\n",
              "      <td>161.80</td>\n",
              "      <td>0</td>\n",
              "      <td>47</td>\n",
              "      <td>2</td>\n",
              "      <td>0</td>\n",
              "      <td>68.000</td>\n",
              "      <td>0.000</td>\n",
              "      <td>0</td>\n",
              "      <td>1</td>\n",
              "      <td>0</td>\n",
              "      <td>0.0000</td>\n",
              "      <td>50</td>\n",
              "      <td>1318</td>\n",
              "      <td>47</td>\n",
              "      <td>0</td>\n",
              "      <td>0.000</td>\n",
              "      <td>0</td>\n",
              "      <td>duo</td>\n",
              "    </tr>\n",
              "    <tr>\n",
              "      <th>3</th>\n",
              "      <td>202.70</td>\n",
              "      <td>0</td>\n",
              "      <td>75</td>\n",
              "      <td>3</td>\n",
              "      <td>0</td>\n",
              "      <td>32.900</td>\n",
              "      <td>0.000</td>\n",
              "      <td>0</td>\n",
              "      <td>0</td>\n",
              "      <td>0</td>\n",
              "      <td>0.0000</td>\n",
              "      <td>31</td>\n",
              "      <td>1436</td>\n",
              "      <td>30</td>\n",
              "      <td>0</td>\n",
              "      <td>0.000</td>\n",
              "      <td>0</td>\n",
              "      <td>squad-fpp</td>\n",
              "    </tr>\n",
              "    <tr>\n",
              "      <th>4</th>\n",
              "      <td>49.75</td>\n",
              "      <td>0</td>\n",
              "      <td>45</td>\n",
              "      <td>2</td>\n",
              "      <td>0</td>\n",
              "      <td>100.000</td>\n",
              "      <td>58.530</td>\n",
              "      <td>1</td>\n",
              "      <td>0</td>\n",
              "      <td>0</td>\n",
              "      <td>0.0000</td>\n",
              "      <td>97</td>\n",
              "      <td>1424</td>\n",
              "      <td>95</td>\n",
              "      <td>1</td>\n",
              "      <td>0.000</td>\n",
              "      <td>0</td>\n",
              "      <td>solo-fpp</td>\n",
              "    </tr>\n",
              "    <tr>\n",
              "      <th>5</th>\n",
              "      <td>34.70</td>\n",
              "      <td>0</td>\n",
              "      <td>44</td>\n",
              "      <td>1</td>\n",
              "      <td>0</td>\n",
              "      <td>100.000</td>\n",
              "      <td>18.440</td>\n",
              "      <td>1</td>\n",
              "      <td>0</td>\n",
              "      <td>0</td>\n",
              "      <td>0.0000</td>\n",
              "      <td>28</td>\n",
              "      <td>1395</td>\n",
              "      <td>28</td>\n",
              "      <td>1</td>\n",
              "      <td>0.000</td>\n",
              "      <td>1</td>\n",
              "      <td>squad-fpp</td>\n",
              "    </tr>\n",
              "    <tr>\n",
              "      <th>6</th>\n",
              "      <td>13.50</td>\n",
              "      <td>0</td>\n",
              "      <td>96</td>\n",
              "      <td>1</td>\n",
              "      <td>0</td>\n",
              "      <td>0.000</td>\n",
              "      <td>0.000</td>\n",
              "      <td>0</td>\n",
              "      <td>0</td>\n",
              "      <td>0</td>\n",
              "      <td>0.0000</td>\n",
              "      <td>28</td>\n",
              "      <td>1316</td>\n",
              "      <td>28</td>\n",
              "      <td>0</td>\n",
              "      <td>0.000</td>\n",
              "      <td>0</td>\n",
              "      <td>squad-fpp</td>\n",
              "    </tr>\n",
              "    <tr>\n",
              "      <th>7</th>\n",
              "      <td>1089.00</td>\n",
              "      <td>0</td>\n",
              "      <td>48</td>\n",
              "      <td>6</td>\n",
              "      <td>0</td>\n",
              "      <td>8.538</td>\n",
              "      <td>0.000</td>\n",
              "      <td>0</td>\n",
              "      <td>0</td>\n",
              "      <td>0</td>\n",
              "      <td>2004.0000</td>\n",
              "      <td>96</td>\n",
              "      <td>1967</td>\n",
              "      <td>92</td>\n",
              "      <td>0</td>\n",
              "      <td>0.000</td>\n",
              "      <td>0</td>\n",
              "      <td>solo-fpp</td>\n",
              "    </tr>\n",
              "    <tr>\n",
              "      <th>8</th>\n",
              "      <td>799.90</td>\n",
              "      <td>0</td>\n",
              "      <td>64</td>\n",
              "      <td>4</td>\n",
              "      <td>0</td>\n",
              "      <td>51.600</td>\n",
              "      <td>0.000</td>\n",
              "      <td>0</td>\n",
              "      <td>0</td>\n",
              "      <td>0</td>\n",
              "      <td>0.0000</td>\n",
              "      <td>28</td>\n",
              "      <td>1375</td>\n",
              "      <td>27</td>\n",
              "      <td>0</td>\n",
              "      <td>0.000</td>\n",
              "      <td>0</td>\n",
              "      <td>squad</td>\n",
              "    </tr>\n",
              "    <tr>\n",
              "      <th>9</th>\n",
              "      <td>65.67</td>\n",
              "      <td>0</td>\n",
              "      <td>74</td>\n",
              "      <td>1</td>\n",
              "      <td>0</td>\n",
              "      <td>37.270</td>\n",
              "      <td>0.000</td>\n",
              "      <td>0</td>\n",
              "      <td>0</td>\n",
              "      <td>0</td>\n",
              "      <td>0.0000</td>\n",
              "      <td>29</td>\n",
              "      <td>1930</td>\n",
              "      <td>27</td>\n",
              "      <td>0</td>\n",
              "      <td>0.000</td>\n",
              "      <td>0</td>\n",
              "      <td>squad</td>\n",
              "    </tr>\n",
              "    <tr>\n",
              "      <th>10</th>\n",
              "      <td>868.30</td>\n",
              "      <td>0</td>\n",
              "      <td>75</td>\n",
              "      <td>9</td>\n",
              "      <td>0</td>\n",
              "      <td>28.380</td>\n",
              "      <td>0.000</td>\n",
              "      <td>0</td>\n",
              "      <td>0</td>\n",
              "      <td>0</td>\n",
              "      <td>0.0000</td>\n",
              "      <td>29</td>\n",
              "      <td>1811</td>\n",
              "      <td>29</td>\n",
              "      <td>0</td>\n",
              "      <td>0.000</td>\n",
              "      <td>0</td>\n",
              "      <td>squad-fpp</td>\n",
              "    </tr>\n",
              "    <tr>\n",
              "      <th>11</th>\n",
              "      <td>451.70</td>\n",
              "      <td>0</td>\n",
              "      <td>64</td>\n",
              "      <td>1</td>\n",
              "      <td>0</td>\n",
              "      <td>137.900</td>\n",
              "      <td>0.000</td>\n",
              "      <td>0</td>\n",
              "      <td>0</td>\n",
              "      <td>0</td>\n",
              "      <td>0.0000</td>\n",
              "      <td>48</td>\n",
              "      <td>1384</td>\n",
              "      <td>46</td>\n",
              "      <td>0</td>\n",
              "      <td>0.000</td>\n",
              "      <td>1</td>\n",
              "      <td>duo-fpp</td>\n",
              "    </tr>\n",
              "    <tr>\n",
              "      <th>12</th>\n",
              "      <td>2784.00</td>\n",
              "      <td>0</td>\n",
              "      <td>37</td>\n",
              "      <td>6</td>\n",
              "      <td>0</td>\n",
              "      <td>0.000</td>\n",
              "      <td>0.000</td>\n",
              "      <td>0</td>\n",
              "      <td>0</td>\n",
              "      <td>0</td>\n",
              "      <td>6639.0000</td>\n",
              "      <td>29</td>\n",
              "      <td>1774</td>\n",
              "      <td>28</td>\n",
              "      <td>0</td>\n",
              "      <td>0.000</td>\n",
              "      <td>0</td>\n",
              "      <td>squad-fpp</td>\n",
              "    </tr>\n",
              "    <tr>\n",
              "      <th>13</th>\n",
              "      <td>2050.00</td>\n",
              "      <td>1</td>\n",
              "      <td>5</td>\n",
              "      <td>6</td>\n",
              "      <td>5</td>\n",
              "      <td>324.200</td>\n",
              "      <td>49.830</td>\n",
              "      <td>4</td>\n",
              "      <td>0</td>\n",
              "      <td>0</td>\n",
              "      <td>1228.0000</td>\n",
              "      <td>97</td>\n",
              "      <td>1886</td>\n",
              "      <td>94</td>\n",
              "      <td>1</td>\n",
              "      <td>76.840</td>\n",
              "      <td>0</td>\n",
              "      <td>solo-fpp</td>\n",
              "    </tr>\n",
              "    <tr>\n",
              "      <th>14</th>\n",
              "      <td>1666.00</td>\n",
              "      <td>1</td>\n",
              "      <td>25</td>\n",
              "      <td>5</td>\n",
              "      <td>2</td>\n",
              "      <td>122.800</td>\n",
              "      <td>37.910</td>\n",
              "      <td>1</td>\n",
              "      <td>0</td>\n",
              "      <td>1</td>\n",
              "      <td>1237.0000</td>\n",
              "      <td>31</td>\n",
              "      <td>1458</td>\n",
              "      <td>30</td>\n",
              "      <td>1</td>\n",
              "      <td>60.290</td>\n",
              "      <td>1</td>\n",
              "      <td>squad-fpp</td>\n",
              "    </tr>\n",
              "    <tr>\n",
              "      <th>15</th>\n",
              "      <td>105.10</td>\n",
              "      <td>0</td>\n",
              "      <td>72</td>\n",
              "      <td>5</td>\n",
              "      <td>0</td>\n",
              "      <td>80.710</td>\n",
              "      <td>0.000</td>\n",
              "      <td>0</td>\n",
              "      <td>0</td>\n",
              "      <td>1</td>\n",
              "      <td>0.0000</td>\n",
              "      <td>48</td>\n",
              "      <td>1313</td>\n",
              "      <td>48</td>\n",
              "      <td>0</td>\n",
              "      <td>0.000</td>\n",
              "      <td>1</td>\n",
              "      <td>duo-fpp</td>\n",
              "    </tr>\n",
              "    <tr>\n",
              "      <th>16</th>\n",
              "      <td>3674.00</td>\n",
              "      <td>2</td>\n",
              "      <td>25</td>\n",
              "      <td>7</td>\n",
              "      <td>14</td>\n",
              "      <td>81.710</td>\n",
              "      <td>9.158</td>\n",
              "      <td>1</td>\n",
              "      <td>0</td>\n",
              "      <td>0</td>\n",
              "      <td>519.9000</td>\n",
              "      <td>27</td>\n",
              "      <td>1882</td>\n",
              "      <td>26</td>\n",
              "      <td>1</td>\n",
              "      <td>0.000</td>\n",
              "      <td>1</td>\n",
              "      <td>squad-fpp</td>\n",
              "    </tr>\n",
              "    <tr>\n",
              "      <th>17</th>\n",
              "      <td>1787.00</td>\n",
              "      <td>3</td>\n",
              "      <td>13</td>\n",
              "      <td>3</td>\n",
              "      <td>12</td>\n",
              "      <td>254.300</td>\n",
              "      <td>36.000</td>\n",
              "      <td>2</td>\n",
              "      <td>0</td>\n",
              "      <td>0</td>\n",
              "      <td>2367.0000</td>\n",
              "      <td>96</td>\n",
              "      <td>1371</td>\n",
              "      <td>95</td>\n",
              "      <td>1</td>\n",
              "      <td>15.290</td>\n",
              "      <td>0</td>\n",
              "      <td>solo-fpp</td>\n",
              "    </tr>\n",
              "    <tr>\n",
              "      <th>18</th>\n",
              "      <td>137.40</td>\n",
              "      <td>0</td>\n",
              "      <td>79</td>\n",
              "      <td>2</td>\n",
              "      <td>0</td>\n",
              "      <td>0.000</td>\n",
              "      <td>0.000</td>\n",
              "      <td>0</td>\n",
              "      <td>0</td>\n",
              "      <td>0</td>\n",
              "      <td>0.0000</td>\n",
              "      <td>27</td>\n",
              "      <td>1301</td>\n",
              "      <td>26</td>\n",
              "      <td>0</td>\n",
              "      <td>0.000</td>\n",
              "      <td>0</td>\n",
              "      <td>squad-fpp</td>\n",
              "    </tr>\n",
              "    <tr>\n",
              "      <th>19</th>\n",
              "      <td>3310.00</td>\n",
              "      <td>1</td>\n",
              "      <td>48</td>\n",
              "      <td>3</td>\n",
              "      <td>1</td>\n",
              "      <td>65.280</td>\n",
              "      <td>0.000</td>\n",
              "      <td>0</td>\n",
              "      <td>0</td>\n",
              "      <td>0</td>\n",
              "      <td>0.0000</td>\n",
              "      <td>30</td>\n",
              "      <td>1322</td>\n",
              "      <td>28</td>\n",
              "      <td>0</td>\n",
              "      <td>20.850</td>\n",
              "      <td>0</td>\n",
              "      <td>squad-fpp</td>\n",
              "    </tr>\n",
              "    <tr>\n",
              "      <th>20</th>\n",
              "      <td>1794.00</td>\n",
              "      <td>4</td>\n",
              "      <td>18</td>\n",
              "      <td>5</td>\n",
              "      <td>8</td>\n",
              "      <td>269.100</td>\n",
              "      <td>7.438</td>\n",
              "      <td>2</td>\n",
              "      <td>0</td>\n",
              "      <td>1</td>\n",
              "      <td>2734.0000</td>\n",
              "      <td>48</td>\n",
              "      <td>1890</td>\n",
              "      <td>48</td>\n",
              "      <td>1</td>\n",
              "      <td>0.000</td>\n",
              "      <td>0</td>\n",
              "      <td>duo-fpp</td>\n",
              "    </tr>\n",
              "    <tr>\n",
              "      <th>21</th>\n",
              "      <td>580.10</td>\n",
              "      <td>0</td>\n",
              "      <td>75</td>\n",
              "      <td>2</td>\n",
              "      <td>0</td>\n",
              "      <td>158.700</td>\n",
              "      <td>0.000</td>\n",
              "      <td>0</td>\n",
              "      <td>0</td>\n",
              "      <td>0</td>\n",
              "      <td>0.0000</td>\n",
              "      <td>29</td>\n",
              "      <td>1853</td>\n",
              "      <td>28</td>\n",
              "      <td>0</td>\n",
              "      <td>0.000</td>\n",
              "      <td>1</td>\n",
              "      <td>squad-fpp</td>\n",
              "    </tr>\n",
              "    <tr>\n",
              "      <th>22</th>\n",
              "      <td>1264.00</td>\n",
              "      <td>1</td>\n",
              "      <td>15</td>\n",
              "      <td>4</td>\n",
              "      <td>3</td>\n",
              "      <td>192.300</td>\n",
              "      <td>280.600</td>\n",
              "      <td>2</td>\n",
              "      <td>0</td>\n",
              "      <td>0</td>\n",
              "      <td>2332.0000</td>\n",
              "      <td>49</td>\n",
              "      <td>1775</td>\n",
              "      <td>48</td>\n",
              "      <td>1</td>\n",
              "      <td>0.000</td>\n",
              "      <td>1</td>\n",
              "      <td>duo-fpp</td>\n",
              "    </tr>\n",
              "    <tr>\n",
              "      <th>23</th>\n",
              "      <td>2727.00</td>\n",
              "      <td>6</td>\n",
              "      <td>2</td>\n",
              "      <td>7</td>\n",
              "      <td>2</td>\n",
              "      <td>1011.000</td>\n",
              "      <td>186.600</td>\n",
              "      <td>9</td>\n",
              "      <td>0</td>\n",
              "      <td>0</td>\n",
              "      <td>4860.0000</td>\n",
              "      <td>50</td>\n",
              "      <td>1857</td>\n",
              "      <td>45</td>\n",
              "      <td>2</td>\n",
              "      <td>0.000</td>\n",
              "      <td>6</td>\n",
              "      <td>duo</td>\n",
              "    </tr>\n",
              "    <tr>\n",
              "      <th>24</th>\n",
              "      <td>3503.00</td>\n",
              "      <td>3</td>\n",
              "      <td>3</td>\n",
              "      <td>4</td>\n",
              "      <td>1</td>\n",
              "      <td>327.600</td>\n",
              "      <td>167.800</td>\n",
              "      <td>4</td>\n",
              "      <td>0</td>\n",
              "      <td>0</td>\n",
              "      <td>0.0000</td>\n",
              "      <td>27</td>\n",
              "      <td>1454</td>\n",
              "      <td>27</td>\n",
              "      <td>2</td>\n",
              "      <td>0.000</td>\n",
              "      <td>4</td>\n",
              "      <td>squad-fpp</td>\n",
              "    </tr>\n",
              "    <tr>\n",
              "      <th>25</th>\n",
              "      <td>2711.00</td>\n",
              "      <td>4</td>\n",
              "      <td>11</td>\n",
              "      <td>7</td>\n",
              "      <td>4</td>\n",
              "      <td>558.600</td>\n",
              "      <td>237.500</td>\n",
              "      <td>3</td>\n",
              "      <td>1</td>\n",
              "      <td>0</td>\n",
              "      <td>1183.0000</td>\n",
              "      <td>47</td>\n",
              "      <td>1841</td>\n",
              "      <td>45</td>\n",
              "      <td>2</td>\n",
              "      <td>0.000</td>\n",
              "      <td>3</td>\n",
              "      <td>duo-fpp</td>\n",
              "    </tr>\n",
              "    <tr>\n",
              "      <th>26</th>\n",
              "      <td>15.30</td>\n",
              "      <td>0</td>\n",
              "      <td>78</td>\n",
              "      <td>0</td>\n",
              "      <td>0</td>\n",
              "      <td>44.280</td>\n",
              "      <td>0.000</td>\n",
              "      <td>0</td>\n",
              "      <td>0</td>\n",
              "      <td>0</td>\n",
              "      <td>0.0000</td>\n",
              "      <td>27</td>\n",
              "      <td>1879</td>\n",
              "      <td>25</td>\n",
              "      <td>0</td>\n",
              "      <td>0.000</td>\n",
              "      <td>0</td>\n",
              "      <td>squad-fpp</td>\n",
              "    </tr>\n",
              "    <tr>\n",
              "      <th>27</th>\n",
              "      <td>1933.00</td>\n",
              "      <td>4</td>\n",
              "      <td>7</td>\n",
              "      <td>4</td>\n",
              "      <td>2</td>\n",
              "      <td>381.200</td>\n",
              "      <td>42.130</td>\n",
              "      <td>4</td>\n",
              "      <td>0</td>\n",
              "      <td>0</td>\n",
              "      <td>1798.0000</td>\n",
              "      <td>48</td>\n",
              "      <td>1896</td>\n",
              "      <td>46</td>\n",
              "      <td>2</td>\n",
              "      <td>0.000</td>\n",
              "      <td>2</td>\n",
              "      <td>duo-fpp</td>\n",
              "    </tr>\n",
              "    <tr>\n",
              "      <th>28</th>\n",
              "      <td>3855.00</td>\n",
              "      <td>6</td>\n",
              "      <td>6</td>\n",
              "      <td>4</td>\n",
              "      <td>1</td>\n",
              "      <td>345.600</td>\n",
              "      <td>105.200</td>\n",
              "      <td>4</td>\n",
              "      <td>0</td>\n",
              "      <td>0</td>\n",
              "      <td>0.0000</td>\n",
              "      <td>28</td>\n",
              "      <td>1339</td>\n",
              "      <td>28</td>\n",
              "      <td>1</td>\n",
              "      <td>0.000</td>\n",
              "      <td>2</td>\n",
              "      <td>squad-fpp</td>\n",
              "    </tr>\n",
              "    <tr>\n",
              "      <th>29</th>\n",
              "      <td>0.00</td>\n",
              "      <td>0</td>\n",
              "      <td>87</td>\n",
              "      <td>0</td>\n",
              "      <td>0</td>\n",
              "      <td>0.000</td>\n",
              "      <td>0.000</td>\n",
              "      <td>0</td>\n",
              "      <td>0</td>\n",
              "      <td>0</td>\n",
              "      <td>0.0000</td>\n",
              "      <td>46</td>\n",
              "      <td>1530</td>\n",
              "      <td>44</td>\n",
              "      <td>0</td>\n",
              "      <td>0.000</td>\n",
              "      <td>0</td>\n",
              "      <td>duo</td>\n",
              "    </tr>\n",
              "    <tr>\n",
              "      <th>...</th>\n",
              "      <td>...</td>\n",
              "      <td>...</td>\n",
              "      <td>...</td>\n",
              "      <td>...</td>\n",
              "      <td>...</td>\n",
              "      <td>...</td>\n",
              "      <td>...</td>\n",
              "      <td>...</td>\n",
              "      <td>...</td>\n",
              "      <td>...</td>\n",
              "      <td>...</td>\n",
              "      <td>...</td>\n",
              "      <td>...</td>\n",
              "      <td>...</td>\n",
              "      <td>...</td>\n",
              "      <td>...</td>\n",
              "      <td>...</td>\n",
              "      <td>...</td>\n",
              "    </tr>\n",
              "    <tr>\n",
              "      <th>4446936</th>\n",
              "      <td>2708.00</td>\n",
              "      <td>1</td>\n",
              "      <td>22</td>\n",
              "      <td>7</td>\n",
              "      <td>1</td>\n",
              "      <td>68.200</td>\n",
              "      <td>5.399</td>\n",
              "      <td>1</td>\n",
              "      <td>0</td>\n",
              "      <td>0</td>\n",
              "      <td>0.0000</td>\n",
              "      <td>27</td>\n",
              "      <td>1441</td>\n",
              "      <td>25</td>\n",
              "      <td>1</td>\n",
              "      <td>34.860</td>\n",
              "      <td>0</td>\n",
              "      <td>squad-fpp</td>\n",
              "    </tr>\n",
              "    <tr>\n",
              "      <th>4446937</th>\n",
              "      <td>1364.00</td>\n",
              "      <td>2</td>\n",
              "      <td>31</td>\n",
              "      <td>5</td>\n",
              "      <td>4</td>\n",
              "      <td>127.400</td>\n",
              "      <td>24.720</td>\n",
              "      <td>1</td>\n",
              "      <td>1</td>\n",
              "      <td>0</td>\n",
              "      <td>0.0000</td>\n",
              "      <td>46</td>\n",
              "      <td>1414</td>\n",
              "      <td>46</td>\n",
              "      <td>1</td>\n",
              "      <td>0.000</td>\n",
              "      <td>1</td>\n",
              "      <td>duo-fpp</td>\n",
              "    </tr>\n",
              "    <tr>\n",
              "      <th>4446938</th>\n",
              "      <td>173.10</td>\n",
              "      <td>0</td>\n",
              "      <td>64</td>\n",
              "      <td>1</td>\n",
              "      <td>0</td>\n",
              "      <td>0.000</td>\n",
              "      <td>0.000</td>\n",
              "      <td>0</td>\n",
              "      <td>0</td>\n",
              "      <td>0</td>\n",
              "      <td>0.0000</td>\n",
              "      <td>27</td>\n",
              "      <td>1297</td>\n",
              "      <td>26</td>\n",
              "      <td>0</td>\n",
              "      <td>72.210</td>\n",
              "      <td>0</td>\n",
              "      <td>squad-fpp</td>\n",
              "    </tr>\n",
              "    <tr>\n",
              "      <th>4446939</th>\n",
              "      <td>56.14</td>\n",
              "      <td>0</td>\n",
              "      <td>35</td>\n",
              "      <td>1</td>\n",
              "      <td>0</td>\n",
              "      <td>151.500</td>\n",
              "      <td>10.770</td>\n",
              "      <td>1</td>\n",
              "      <td>0</td>\n",
              "      <td>0</td>\n",
              "      <td>0.0000</td>\n",
              "      <td>48</td>\n",
              "      <td>1797</td>\n",
              "      <td>48</td>\n",
              "      <td>1</td>\n",
              "      <td>0.000</td>\n",
              "      <td>1</td>\n",
              "      <td>duo-fpp</td>\n",
              "    </tr>\n",
              "    <tr>\n",
              "      <th>4446940</th>\n",
              "      <td>1362.00</td>\n",
              "      <td>1</td>\n",
              "      <td>58</td>\n",
              "      <td>6</td>\n",
              "      <td>1</td>\n",
              "      <td>0.000</td>\n",
              "      <td>0.000</td>\n",
              "      <td>0</td>\n",
              "      <td>0</td>\n",
              "      <td>0</td>\n",
              "      <td>2728.0000</td>\n",
              "      <td>49</td>\n",
              "      <td>1997</td>\n",
              "      <td>47</td>\n",
              "      <td>0</td>\n",
              "      <td>0.000</td>\n",
              "      <td>0</td>\n",
              "      <td>duo-fpp</td>\n",
              "    </tr>\n",
              "    <tr>\n",
              "      <th>4446941</th>\n",
              "      <td>65.21</td>\n",
              "      <td>0</td>\n",
              "      <td>79</td>\n",
              "      <td>2</td>\n",
              "      <td>0</td>\n",
              "      <td>62.350</td>\n",
              "      <td>0.000</td>\n",
              "      <td>0</td>\n",
              "      <td>0</td>\n",
              "      <td>0</td>\n",
              "      <td>0.0000</td>\n",
              "      <td>26</td>\n",
              "      <td>1373</td>\n",
              "      <td>26</td>\n",
              "      <td>0</td>\n",
              "      <td>0.000</td>\n",
              "      <td>0</td>\n",
              "      <td>squad</td>\n",
              "    </tr>\n",
              "    <tr>\n",
              "      <th>4446942</th>\n",
              "      <td>2162.00</td>\n",
              "      <td>4</td>\n",
              "      <td>1</td>\n",
              "      <td>8</td>\n",
              "      <td>14</td>\n",
              "      <td>724.700</td>\n",
              "      <td>180.300</td>\n",
              "      <td>7</td>\n",
              "      <td>0</td>\n",
              "      <td>3</td>\n",
              "      <td>5076.0000</td>\n",
              "      <td>31</td>\n",
              "      <td>1882</td>\n",
              "      <td>30</td>\n",
              "      <td>2</td>\n",
              "      <td>0.000</td>\n",
              "      <td>6</td>\n",
              "      <td>squad-fpp</td>\n",
              "    </tr>\n",
              "    <tr>\n",
              "      <th>4446943</th>\n",
              "      <td>57.59</td>\n",
              "      <td>0</td>\n",
              "      <td>82</td>\n",
              "      <td>2</td>\n",
              "      <td>0</td>\n",
              "      <td>0.000</td>\n",
              "      <td>0.000</td>\n",
              "      <td>0</td>\n",
              "      <td>0</td>\n",
              "      <td>0</td>\n",
              "      <td>0.0000</td>\n",
              "      <td>28</td>\n",
              "      <td>1365</td>\n",
              "      <td>27</td>\n",
              "      <td>0</td>\n",
              "      <td>0.000</td>\n",
              "      <td>0</td>\n",
              "      <td>squad-fpp</td>\n",
              "    </tr>\n",
              "    <tr>\n",
              "      <th>4446944</th>\n",
              "      <td>1349.00</td>\n",
              "      <td>0</td>\n",
              "      <td>29</td>\n",
              "      <td>5</td>\n",
              "      <td>0</td>\n",
              "      <td>175.000</td>\n",
              "      <td>3.323</td>\n",
              "      <td>1</td>\n",
              "      <td>0</td>\n",
              "      <td>0</td>\n",
              "      <td>2532.0000</td>\n",
              "      <td>49</td>\n",
              "      <td>1897</td>\n",
              "      <td>48</td>\n",
              "      <td>1</td>\n",
              "      <td>0.000</td>\n",
              "      <td>0</td>\n",
              "      <td>duo-fpp</td>\n",
              "    </tr>\n",
              "    <tr>\n",
              "      <th>4446945</th>\n",
              "      <td>57.19</td>\n",
              "      <td>0</td>\n",
              "      <td>81</td>\n",
              "      <td>1</td>\n",
              "      <td>0</td>\n",
              "      <td>0.000</td>\n",
              "      <td>0.000</td>\n",
              "      <td>0</td>\n",
              "      <td>0</td>\n",
              "      <td>0</td>\n",
              "      <td>0.0000</td>\n",
              "      <td>49</td>\n",
              "      <td>1340</td>\n",
              "      <td>48</td>\n",
              "      <td>0</td>\n",
              "      <td>0.000</td>\n",
              "      <td>0</td>\n",
              "      <td>duo-fpp</td>\n",
              "    </tr>\n",
              "    <tr>\n",
              "      <th>4446946</th>\n",
              "      <td>2591.00</td>\n",
              "      <td>0</td>\n",
              "      <td>53</td>\n",
              "      <td>7</td>\n",
              "      <td>0</td>\n",
              "      <td>0.000</td>\n",
              "      <td>0.000</td>\n",
              "      <td>0</td>\n",
              "      <td>0</td>\n",
              "      <td>0</td>\n",
              "      <td>0.0000</td>\n",
              "      <td>97</td>\n",
              "      <td>1922</td>\n",
              "      <td>96</td>\n",
              "      <td>0</td>\n",
              "      <td>0.000</td>\n",
              "      <td>0</td>\n",
              "      <td>solo-fpp</td>\n",
              "    </tr>\n",
              "    <tr>\n",
              "      <th>4446947</th>\n",
              "      <td>631.10</td>\n",
              "      <td>0</td>\n",
              "      <td>61</td>\n",
              "      <td>4</td>\n",
              "      <td>0</td>\n",
              "      <td>0.000</td>\n",
              "      <td>0.000</td>\n",
              "      <td>0</td>\n",
              "      <td>0</td>\n",
              "      <td>0</td>\n",
              "      <td>0.0000</td>\n",
              "      <td>48</td>\n",
              "      <td>1964</td>\n",
              "      <td>45</td>\n",
              "      <td>0</td>\n",
              "      <td>0.000</td>\n",
              "      <td>0</td>\n",
              "      <td>duo-fpp</td>\n",
              "    </tr>\n",
              "    <tr>\n",
              "      <th>4446948</th>\n",
              "      <td>1685.00</td>\n",
              "      <td>3</td>\n",
              "      <td>7</td>\n",
              "      <td>3</td>\n",
              "      <td>2</td>\n",
              "      <td>736.500</td>\n",
              "      <td>113.000</td>\n",
              "      <td>4</td>\n",
              "      <td>1</td>\n",
              "      <td>0</td>\n",
              "      <td>0.0000</td>\n",
              "      <td>49</td>\n",
              "      <td>1437</td>\n",
              "      <td>47</td>\n",
              "      <td>2</td>\n",
              "      <td>0.000</td>\n",
              "      <td>4</td>\n",
              "      <td>duo</td>\n",
              "    </tr>\n",
              "    <tr>\n",
              "      <th>4446949</th>\n",
              "      <td>424.60</td>\n",
              "      <td>0</td>\n",
              "      <td>32</td>\n",
              "      <td>3</td>\n",
              "      <td>0</td>\n",
              "      <td>100.000</td>\n",
              "      <td>7.378</td>\n",
              "      <td>1</td>\n",
              "      <td>0</td>\n",
              "      <td>0</td>\n",
              "      <td>0.0000</td>\n",
              "      <td>49</td>\n",
              "      <td>1647</td>\n",
              "      <td>43</td>\n",
              "      <td>1</td>\n",
              "      <td>0.000</td>\n",
              "      <td>1</td>\n",
              "      <td>duo-fpp</td>\n",
              "    </tr>\n",
              "    <tr>\n",
              "      <th>4446950</th>\n",
              "      <td>1559.00</td>\n",
              "      <td>0</td>\n",
              "      <td>32</td>\n",
              "      <td>5</td>\n",
              "      <td>0</td>\n",
              "      <td>203.500</td>\n",
              "      <td>11.270</td>\n",
              "      <td>1</td>\n",
              "      <td>0</td>\n",
              "      <td>0</td>\n",
              "      <td>0.0000</td>\n",
              "      <td>95</td>\n",
              "      <td>1897</td>\n",
              "      <td>92</td>\n",
              "      <td>1</td>\n",
              "      <td>0.000</td>\n",
              "      <td>0</td>\n",
              "      <td>solo-fpp</td>\n",
              "    </tr>\n",
              "    <tr>\n",
              "      <th>4446951</th>\n",
              "      <td>44.90</td>\n",
              "      <td>0</td>\n",
              "      <td>85</td>\n",
              "      <td>1</td>\n",
              "      <td>0</td>\n",
              "      <td>0.000</td>\n",
              "      <td>0.000</td>\n",
              "      <td>0</td>\n",
              "      <td>0</td>\n",
              "      <td>0</td>\n",
              "      <td>0.0000</td>\n",
              "      <td>31</td>\n",
              "      <td>1344</td>\n",
              "      <td>31</td>\n",
              "      <td>0</td>\n",
              "      <td>0.000</td>\n",
              "      <td>0</td>\n",
              "      <td>squad-fpp</td>\n",
              "    </tr>\n",
              "    <tr>\n",
              "      <th>4446952</th>\n",
              "      <td>1177.00</td>\n",
              "      <td>0</td>\n",
              "      <td>44</td>\n",
              "      <td>5</td>\n",
              "      <td>0</td>\n",
              "      <td>0.000</td>\n",
              "      <td>0.000</td>\n",
              "      <td>0</td>\n",
              "      <td>0</td>\n",
              "      <td>0</td>\n",
              "      <td>0.0000</td>\n",
              "      <td>27</td>\n",
              "      <td>1275</td>\n",
              "      <td>26</td>\n",
              "      <td>0</td>\n",
              "      <td>5.328</td>\n",
              "      <td>0</td>\n",
              "      <td>squad</td>\n",
              "    </tr>\n",
              "    <tr>\n",
              "      <th>4446953</th>\n",
              "      <td>1025.00</td>\n",
              "      <td>0</td>\n",
              "      <td>57</td>\n",
              "      <td>5</td>\n",
              "      <td>0</td>\n",
              "      <td>30.100</td>\n",
              "      <td>0.000</td>\n",
              "      <td>0</td>\n",
              "      <td>0</td>\n",
              "      <td>1</td>\n",
              "      <td>0.0000</td>\n",
              "      <td>28</td>\n",
              "      <td>1318</td>\n",
              "      <td>25</td>\n",
              "      <td>0</td>\n",
              "      <td>0.000</td>\n",
              "      <td>0</td>\n",
              "      <td>squad-fpp</td>\n",
              "    </tr>\n",
              "    <tr>\n",
              "      <th>4446954</th>\n",
              "      <td>2146.00</td>\n",
              "      <td>0</td>\n",
              "      <td>58</td>\n",
              "      <td>6</td>\n",
              "      <td>0</td>\n",
              "      <td>30.100</td>\n",
              "      <td>0.000</td>\n",
              "      <td>0</td>\n",
              "      <td>0</td>\n",
              "      <td>0</td>\n",
              "      <td>0.0000</td>\n",
              "      <td>99</td>\n",
              "      <td>1908</td>\n",
              "      <td>97</td>\n",
              "      <td>0</td>\n",
              "      <td>0.000</td>\n",
              "      <td>0</td>\n",
              "      <td>solo-fpp</td>\n",
              "    </tr>\n",
              "    <tr>\n",
              "      <th>4446955</th>\n",
              "      <td>1158.00</td>\n",
              "      <td>0</td>\n",
              "      <td>60</td>\n",
              "      <td>3</td>\n",
              "      <td>0</td>\n",
              "      <td>0.000</td>\n",
              "      <td>0.000</td>\n",
              "      <td>0</td>\n",
              "      <td>0</td>\n",
              "      <td>0</td>\n",
              "      <td>604.8000</td>\n",
              "      <td>49</td>\n",
              "      <td>1907</td>\n",
              "      <td>47</td>\n",
              "      <td>0</td>\n",
              "      <td>0.000</td>\n",
              "      <td>0</td>\n",
              "      <td>duo</td>\n",
              "    </tr>\n",
              "    <tr>\n",
              "      <th>4446956</th>\n",
              "      <td>828.30</td>\n",
              "      <td>0</td>\n",
              "      <td>77</td>\n",
              "      <td>7</td>\n",
              "      <td>1</td>\n",
              "      <td>151.900</td>\n",
              "      <td>0.000</td>\n",
              "      <td>0</td>\n",
              "      <td>1</td>\n",
              "      <td>1</td>\n",
              "      <td>0.0000</td>\n",
              "      <td>29</td>\n",
              "      <td>1693</td>\n",
              "      <td>28</td>\n",
              "      <td>0</td>\n",
              "      <td>0.000</td>\n",
              "      <td>0</td>\n",
              "      <td>squad-fpp</td>\n",
              "    </tr>\n",
              "    <tr>\n",
              "      <th>4446957</th>\n",
              "      <td>363.70</td>\n",
              "      <td>1</td>\n",
              "      <td>32</td>\n",
              "      <td>2</td>\n",
              "      <td>0</td>\n",
              "      <td>100.000</td>\n",
              "      <td>12.020</td>\n",
              "      <td>1</td>\n",
              "      <td>0</td>\n",
              "      <td>1</td>\n",
              "      <td>0.0000</td>\n",
              "      <td>49</td>\n",
              "      <td>1396</td>\n",
              "      <td>49</td>\n",
              "      <td>1</td>\n",
              "      <td>0.000</td>\n",
              "      <td>0</td>\n",
              "      <td>duo-fpp</td>\n",
              "    </tr>\n",
              "    <tr>\n",
              "      <th>4446958</th>\n",
              "      <td>0.00</td>\n",
              "      <td>0</td>\n",
              "      <td>92</td>\n",
              "      <td>0</td>\n",
              "      <td>0</td>\n",
              "      <td>0.000</td>\n",
              "      <td>0.000</td>\n",
              "      <td>0</td>\n",
              "      <td>0</td>\n",
              "      <td>0</td>\n",
              "      <td>0.0000</td>\n",
              "      <td>48</td>\n",
              "      <td>1414</td>\n",
              "      <td>44</td>\n",
              "      <td>0</td>\n",
              "      <td>0.000</td>\n",
              "      <td>0</td>\n",
              "      <td>duo-fpp</td>\n",
              "    </tr>\n",
              "    <tr>\n",
              "      <th>4446959</th>\n",
              "      <td>40.25</td>\n",
              "      <td>0</td>\n",
              "      <td>89</td>\n",
              "      <td>1</td>\n",
              "      <td>0</td>\n",
              "      <td>22.680</td>\n",
              "      <td>0.000</td>\n",
              "      <td>0</td>\n",
              "      <td>0</td>\n",
              "      <td>0</td>\n",
              "      <td>0.0000</td>\n",
              "      <td>96</td>\n",
              "      <td>1456</td>\n",
              "      <td>95</td>\n",
              "      <td>0</td>\n",
              "      <td>0.000</td>\n",
              "      <td>0</td>\n",
              "      <td>solo-fpp</td>\n",
              "    </tr>\n",
              "    <tr>\n",
              "      <th>4446960</th>\n",
              "      <td>845.60</td>\n",
              "      <td>0</td>\n",
              "      <td>4</td>\n",
              "      <td>3</td>\n",
              "      <td>0</td>\n",
              "      <td>327.700</td>\n",
              "      <td>90.250</td>\n",
              "      <td>4</td>\n",
              "      <td>0</td>\n",
              "      <td>0</td>\n",
              "      <td>180.4000</td>\n",
              "      <td>30</td>\n",
              "      <td>1936</td>\n",
              "      <td>28</td>\n",
              "      <td>3</td>\n",
              "      <td>0.000</td>\n",
              "      <td>3</td>\n",
              "      <td>squad-fpp</td>\n",
              "    </tr>\n",
              "    <tr>\n",
              "      <th>4446961</th>\n",
              "      <td>1019.00</td>\n",
              "      <td>0</td>\n",
              "      <td>74</td>\n",
              "      <td>3</td>\n",
              "      <td>0</td>\n",
              "      <td>0.000</td>\n",
              "      <td>0.000</td>\n",
              "      <td>0</td>\n",
              "      <td>0</td>\n",
              "      <td>0</td>\n",
              "      <td>1292.0000</td>\n",
              "      <td>29</td>\n",
              "      <td>1873</td>\n",
              "      <td>28</td>\n",
              "      <td>0</td>\n",
              "      <td>0.000</td>\n",
              "      <td>0</td>\n",
              "      <td>squad-fpp</td>\n",
              "    </tr>\n",
              "    <tr>\n",
              "      <th>4446962</th>\n",
              "      <td>81.70</td>\n",
              "      <td>1</td>\n",
              "      <td>69</td>\n",
              "      <td>6</td>\n",
              "      <td>0</td>\n",
              "      <td>44.150</td>\n",
              "      <td>0.000</td>\n",
              "      <td>0</td>\n",
              "      <td>0</td>\n",
              "      <td>0</td>\n",
              "      <td>0.0000</td>\n",
              "      <td>93</td>\n",
              "      <td>1435</td>\n",
              "      <td>93</td>\n",
              "      <td>0</td>\n",
              "      <td>0.000</td>\n",
              "      <td>0</td>\n",
              "      <td>solo</td>\n",
              "    </tr>\n",
              "    <tr>\n",
              "      <th>4446963</th>\n",
              "      <td>788.70</td>\n",
              "      <td>0</td>\n",
              "      <td>66</td>\n",
              "      <td>4</td>\n",
              "      <td>0</td>\n",
              "      <td>59.060</td>\n",
              "      <td>0.000</td>\n",
              "      <td>0</td>\n",
              "      <td>0</td>\n",
              "      <td>0</td>\n",
              "      <td>0.0000</td>\n",
              "      <td>28</td>\n",
              "      <td>1321</td>\n",
              "      <td>28</td>\n",
              "      <td>0</td>\n",
              "      <td>2.184</td>\n",
              "      <td>0</td>\n",
              "      <td>squad-fpp</td>\n",
              "    </tr>\n",
              "    <tr>\n",
              "      <th>4446964</th>\n",
              "      <td>2748.00</td>\n",
              "      <td>4</td>\n",
              "      <td>11</td>\n",
              "      <td>8</td>\n",
              "      <td>2</td>\n",
              "      <td>180.400</td>\n",
              "      <td>98.500</td>\n",
              "      <td>2</td>\n",
              "      <td>0</td>\n",
              "      <td>2</td>\n",
              "      <td>0.0000</td>\n",
              "      <td>26</td>\n",
              "      <td>1373</td>\n",
              "      <td>25</td>\n",
              "      <td>1</td>\n",
              "      <td>0.000</td>\n",
              "      <td>1</td>\n",
              "      <td>squad-fpp</td>\n",
              "    </tr>\n",
              "    <tr>\n",
              "      <th>4446965</th>\n",
              "      <td>1244.00</td>\n",
              "      <td>2</td>\n",
              "      <td>18</td>\n",
              "      <td>5</td>\n",
              "      <td>1</td>\n",
              "      <td>268.000</td>\n",
              "      <td>78.250</td>\n",
              "      <td>2</td>\n",
              "      <td>0</td>\n",
              "      <td>0</td>\n",
              "      <td>1369.0000</td>\n",
              "      <td>98</td>\n",
              "      <td>1766</td>\n",
              "      <td>94</td>\n",
              "      <td>1</td>\n",
              "      <td>0.000</td>\n",
              "      <td>0</td>\n",
              "      <td>solo-fpp</td>\n",
              "    </tr>\n",
              "  </tbody>\n",
              "</table>\n",
              "<p>4446966 rows × 18 columns</p>\n",
              "</div>"
            ],
            "text/plain": [
              "         walkDistance  boosts  killPlace  weaponsAcquired  heals  damageDealt  \\\n",
              "0              244.80       0         60                1      0        0.000   \n",
              "1             1434.00       0         57                5      0       91.470   \n",
              "2              161.80       0         47                2      0       68.000   \n",
              "3              202.70       0         75                3      0       32.900   \n",
              "4               49.75       0         45                2      0      100.000   \n",
              "5               34.70       0         44                1      0      100.000   \n",
              "6               13.50       0         96                1      0        0.000   \n",
              "7             1089.00       0         48                6      0        8.538   \n",
              "8              799.90       0         64                4      0       51.600   \n",
              "9               65.67       0         74                1      0       37.270   \n",
              "10             868.30       0         75                9      0       28.380   \n",
              "11             451.70       0         64                1      0      137.900   \n",
              "12            2784.00       0         37                6      0        0.000   \n",
              "13            2050.00       1          5                6      5      324.200   \n",
              "14            1666.00       1         25                5      2      122.800   \n",
              "15             105.10       0         72                5      0       80.710   \n",
              "16            3674.00       2         25                7     14       81.710   \n",
              "17            1787.00       3         13                3     12      254.300   \n",
              "18             137.40       0         79                2      0        0.000   \n",
              "19            3310.00       1         48                3      1       65.280   \n",
              "20            1794.00       4         18                5      8      269.100   \n",
              "21             580.10       0         75                2      0      158.700   \n",
              "22            1264.00       1         15                4      3      192.300   \n",
              "23            2727.00       6          2                7      2     1011.000   \n",
              "24            3503.00       3          3                4      1      327.600   \n",
              "25            2711.00       4         11                7      4      558.600   \n",
              "26              15.30       0         78                0      0       44.280   \n",
              "27            1933.00       4          7                4      2      381.200   \n",
              "28            3855.00       6          6                4      1      345.600   \n",
              "29               0.00       0         87                0      0        0.000   \n",
              "...               ...     ...        ...              ...    ...          ...   \n",
              "4446936       2708.00       1         22                7      1       68.200   \n",
              "4446937       1364.00       2         31                5      4      127.400   \n",
              "4446938        173.10       0         64                1      0        0.000   \n",
              "4446939         56.14       0         35                1      0      151.500   \n",
              "4446940       1362.00       1         58                6      1        0.000   \n",
              "4446941         65.21       0         79                2      0       62.350   \n",
              "4446942       2162.00       4          1                8     14      724.700   \n",
              "4446943         57.59       0         82                2      0        0.000   \n",
              "4446944       1349.00       0         29                5      0      175.000   \n",
              "4446945         57.19       0         81                1      0        0.000   \n",
              "4446946       2591.00       0         53                7      0        0.000   \n",
              "4446947        631.10       0         61                4      0        0.000   \n",
              "4446948       1685.00       3          7                3      2      736.500   \n",
              "4446949        424.60       0         32                3      0      100.000   \n",
              "4446950       1559.00       0         32                5      0      203.500   \n",
              "4446951         44.90       0         85                1      0        0.000   \n",
              "4446952       1177.00       0         44                5      0        0.000   \n",
              "4446953       1025.00       0         57                5      0       30.100   \n",
              "4446954       2146.00       0         58                6      0       30.100   \n",
              "4446955       1158.00       0         60                3      0        0.000   \n",
              "4446956        828.30       0         77                7      1      151.900   \n",
              "4446957        363.70       1         32                2      0      100.000   \n",
              "4446958          0.00       0         92                0      0        0.000   \n",
              "4446959         40.25       0         89                1      0       22.680   \n",
              "4446960        845.60       0          4                3      0      327.700   \n",
              "4446961       1019.00       0         74                3      0        0.000   \n",
              "4446962         81.70       1         69                6      0       44.150   \n",
              "4446963        788.70       0         66                4      0       59.060   \n",
              "4446964       2748.00       4         11                8      2      180.400   \n",
              "4446965       1244.00       2         18                5      1      268.000   \n",
              "\n",
              "         longestKill  kills  assists  revives  rideDistance  maxPlace  \\\n",
              "0              0.000      0        0        0        0.0000        28   \n",
              "1              0.000      0        0        0        0.0045        26   \n",
              "2              0.000      0        1        0        0.0000        50   \n",
              "3              0.000      0        0        0        0.0000        31   \n",
              "4             58.530      1        0        0        0.0000        97   \n",
              "5             18.440      1        0        0        0.0000        28   \n",
              "6              0.000      0        0        0        0.0000        28   \n",
              "7              0.000      0        0        0     2004.0000        96   \n",
              "8              0.000      0        0        0        0.0000        28   \n",
              "9              0.000      0        0        0        0.0000        29   \n",
              "10             0.000      0        0        0        0.0000        29   \n",
              "11             0.000      0        0        0        0.0000        48   \n",
              "12             0.000      0        0        0     6639.0000        29   \n",
              "13            49.830      4        0        0     1228.0000        97   \n",
              "14            37.910      1        0        1     1237.0000        31   \n",
              "15             0.000      0        0        1        0.0000        48   \n",
              "16             9.158      1        0        0      519.9000        27   \n",
              "17            36.000      2        0        0     2367.0000        96   \n",
              "18             0.000      0        0        0        0.0000        27   \n",
              "19             0.000      0        0        0        0.0000        30   \n",
              "20             7.438      2        0        1     2734.0000        48   \n",
              "21             0.000      0        0        0        0.0000        29   \n",
              "22           280.600      2        0        0     2332.0000        49   \n",
              "23           186.600      9        0        0     4860.0000        50   \n",
              "24           167.800      4        0        0        0.0000        27   \n",
              "25           237.500      3        1        0     1183.0000        47   \n",
              "26             0.000      0        0        0        0.0000        27   \n",
              "27            42.130      4        0        0     1798.0000        48   \n",
              "28           105.200      4        0        0        0.0000        28   \n",
              "29             0.000      0        0        0        0.0000        46   \n",
              "...              ...    ...      ...      ...           ...       ...   \n",
              "4446936        5.399      1        0        0        0.0000        27   \n",
              "4446937       24.720      1        1        0        0.0000        46   \n",
              "4446938        0.000      0        0        0        0.0000        27   \n",
              "4446939       10.770      1        0        0        0.0000        48   \n",
              "4446940        0.000      0        0        0     2728.0000        49   \n",
              "4446941        0.000      0        0        0        0.0000        26   \n",
              "4446942      180.300      7        0        3     5076.0000        31   \n",
              "4446943        0.000      0        0        0        0.0000        28   \n",
              "4446944        3.323      1        0        0     2532.0000        49   \n",
              "4446945        0.000      0        0        0        0.0000        49   \n",
              "4446946        0.000      0        0        0        0.0000        97   \n",
              "4446947        0.000      0        0        0        0.0000        48   \n",
              "4446948      113.000      4        1        0        0.0000        49   \n",
              "4446949        7.378      1        0        0        0.0000        49   \n",
              "4446950       11.270      1        0        0        0.0000        95   \n",
              "4446951        0.000      0        0        0        0.0000        31   \n",
              "4446952        0.000      0        0        0        0.0000        27   \n",
              "4446953        0.000      0        0        1        0.0000        28   \n",
              "4446954        0.000      0        0        0        0.0000        99   \n",
              "4446955        0.000      0        0        0      604.8000        49   \n",
              "4446956        0.000      0        1        1        0.0000        29   \n",
              "4446957       12.020      1        0        1        0.0000        49   \n",
              "4446958        0.000      0        0        0        0.0000        48   \n",
              "4446959        0.000      0        0        0        0.0000        96   \n",
              "4446960       90.250      4        0        0      180.4000        30   \n",
              "4446961        0.000      0        0        0     1292.0000        29   \n",
              "4446962        0.000      0        0        0        0.0000        93   \n",
              "4446963        0.000      0        0        0        0.0000        28   \n",
              "4446964       98.500      2        0        2        0.0000        26   \n",
              "4446965       78.250      2        0        0     1369.0000        98   \n",
              "\n",
              "         matchDuration  numGroups  killStreaks  swimDistance  DBNOs  matchType  \n",
              "0                 1306         26            0         0.000      0  squad-fpp  \n",
              "1                 1777         25            0        11.040      0  squad-fpp  \n",
              "2                 1318         47            0         0.000      0        duo  \n",
              "3                 1436         30            0         0.000      0  squad-fpp  \n",
              "4                 1424         95            1         0.000      0   solo-fpp  \n",
              "5                 1395         28            1         0.000      1  squad-fpp  \n",
              "6                 1316         28            0         0.000      0  squad-fpp  \n",
              "7                 1967         92            0         0.000      0   solo-fpp  \n",
              "8                 1375         27            0         0.000      0      squad  \n",
              "9                 1930         27            0         0.000      0      squad  \n",
              "10                1811         29            0         0.000      0  squad-fpp  \n",
              "11                1384         46            0         0.000      1    duo-fpp  \n",
              "12                1774         28            0         0.000      0  squad-fpp  \n",
              "13                1886         94            1        76.840      0   solo-fpp  \n",
              "14                1458         30            1        60.290      1  squad-fpp  \n",
              "15                1313         48            0         0.000      1    duo-fpp  \n",
              "16                1882         26            1         0.000      1  squad-fpp  \n",
              "17                1371         95            1        15.290      0   solo-fpp  \n",
              "18                1301         26            0         0.000      0  squad-fpp  \n",
              "19                1322         28            0        20.850      0  squad-fpp  \n",
              "20                1890         48            1         0.000      0    duo-fpp  \n",
              "21                1853         28            0         0.000      1  squad-fpp  \n",
              "22                1775         48            1         0.000      1    duo-fpp  \n",
              "23                1857         45            2         0.000      6        duo  \n",
              "24                1454         27            2         0.000      4  squad-fpp  \n",
              "25                1841         45            2         0.000      3    duo-fpp  \n",
              "26                1879         25            0         0.000      0  squad-fpp  \n",
              "27                1896         46            2         0.000      2    duo-fpp  \n",
              "28                1339         28            1         0.000      2  squad-fpp  \n",
              "29                1530         44            0         0.000      0        duo  \n",
              "...                ...        ...          ...           ...    ...        ...  \n",
              "4446936           1441         25            1        34.860      0  squad-fpp  \n",
              "4446937           1414         46            1         0.000      1    duo-fpp  \n",
              "4446938           1297         26            0        72.210      0  squad-fpp  \n",
              "4446939           1797         48            1         0.000      1    duo-fpp  \n",
              "4446940           1997         47            0         0.000      0    duo-fpp  \n",
              "4446941           1373         26            0         0.000      0      squad  \n",
              "4446942           1882         30            2         0.000      6  squad-fpp  \n",
              "4446943           1365         27            0         0.000      0  squad-fpp  \n",
              "4446944           1897         48            1         0.000      0    duo-fpp  \n",
              "4446945           1340         48            0         0.000      0    duo-fpp  \n",
              "4446946           1922         96            0         0.000      0   solo-fpp  \n",
              "4446947           1964         45            0         0.000      0    duo-fpp  \n",
              "4446948           1437         47            2         0.000      4        duo  \n",
              "4446949           1647         43            1         0.000      1    duo-fpp  \n",
              "4446950           1897         92            1         0.000      0   solo-fpp  \n",
              "4446951           1344         31            0         0.000      0  squad-fpp  \n",
              "4446952           1275         26            0         5.328      0      squad  \n",
              "4446953           1318         25            0         0.000      0  squad-fpp  \n",
              "4446954           1908         97            0         0.000      0   solo-fpp  \n",
              "4446955           1907         47            0         0.000      0        duo  \n",
              "4446956           1693         28            0         0.000      0  squad-fpp  \n",
              "4446957           1396         49            1         0.000      0    duo-fpp  \n",
              "4446958           1414         44            0         0.000      0    duo-fpp  \n",
              "4446959           1456         95            0         0.000      0   solo-fpp  \n",
              "4446960           1936         28            3         0.000      3  squad-fpp  \n",
              "4446961           1873         28            0         0.000      0  squad-fpp  \n",
              "4446962           1435         93            0         0.000      0       solo  \n",
              "4446963           1321         28            0         2.184      0  squad-fpp  \n",
              "4446964           1373         25            1         0.000      1  squad-fpp  \n",
              "4446965           1766         94            1         0.000      0   solo-fpp  \n",
              "\n",
              "[4446966 rows x 18 columns]"
            ]
          },
          "metadata": {
            "tags": []
          },
          "execution_count": 53
        }
      ]
    },
    {
      "metadata": {
        "id": "A3ENK5Sd7cfk",
        "colab_type": "code",
        "colab": {}
      },
      "cell_type": "code",
      "source": [
        "to_keep_final=to_keep.append(pd.Series(['Id', 'winPlacePerc'])) #keep index in so that rows can be identified\n",
        "final_train=train[to_keep_final]\n",
        "train_cats(final_train)\n",
        "df,y,nas = proc_df(final_train, 'winPlacePerc')"
      ],
      "execution_count": 0,
      "outputs": []
    },
    {
      "metadata": {
        "id": "kuscmDDR-zlZ",
        "colab_type": "code",
        "outputId": "33789eb6-b4d5-4027-87a1-edb49b4a00de",
        "colab": {
          "base_uri": "https://localhost:8080/",
          "height": 195
        }
      },
      "cell_type": "code",
      "source": [
        "train_cols = df.columns\n",
        "df.drop('Id', axis = 1).head()\n",
        "y[:2]"
      ],
      "execution_count": 0,
      "outputs": [
        {
          "output_type": "error",
          "ename": "NameError",
          "evalue": "ignored",
          "traceback": [
            "\u001b[0;31m---------------------------------------------------------------------------\u001b[0m",
            "\u001b[0;31mNameError\u001b[0m                                 Traceback (most recent call last)",
            "\u001b[0;32m<ipython-input-1-695f0c8e6f2f>\u001b[0m in \u001b[0;36m<module>\u001b[0;34m()\u001b[0m\n\u001b[0;32m----> 1\u001b[0;31m \u001b[0mtrain_cols\u001b[0m \u001b[0;34m=\u001b[0m \u001b[0mdf\u001b[0m\u001b[0;34m.\u001b[0m\u001b[0mcolumns\u001b[0m\u001b[0;34m\u001b[0m\u001b[0;34m\u001b[0m\u001b[0m\n\u001b[0m\u001b[1;32m      2\u001b[0m \u001b[0mdf\u001b[0m\u001b[0;34m.\u001b[0m\u001b[0mdrop\u001b[0m\u001b[0;34m(\u001b[0m\u001b[0;34m'Id'\u001b[0m\u001b[0;34m,\u001b[0m \u001b[0maxis\u001b[0m \u001b[0;34m=\u001b[0m \u001b[0;36m1\u001b[0m\u001b[0;34m)\u001b[0m\u001b[0;34m.\u001b[0m\u001b[0mhead\u001b[0m\u001b[0;34m(\u001b[0m\u001b[0;34m)\u001b[0m\u001b[0;34m\u001b[0m\u001b[0;34m\u001b[0m\u001b[0m\n\u001b[1;32m      3\u001b[0m \u001b[0my\u001b[0m\u001b[0;34m[\u001b[0m\u001b[0;34m:\u001b[0m\u001b[0;36m2\u001b[0m\u001b[0;34m]\u001b[0m\u001b[0;34m\u001b[0m\u001b[0;34m\u001b[0m\u001b[0m\n",
            "\u001b[0;31mNameError\u001b[0m: name 'df' is not defined"
          ]
        }
      ]
    },
    {
      "metadata": {
        "id": "RA7w7kZRqT0t",
        "colab_type": "code",
        "outputId": "e7a5de9c-0009-444c-cb8c-5de496263976",
        "colab": {
          "base_uri": "https://localhost:8080/",
          "height": 50
        }
      },
      "cell_type": "code",
      "source": [
        "%%time\n",
        "reset_rf_samples()\n",
        "\n",
        "m = RandomForestRegressor(n_estimators = 40, \n",
        "                          random_state = 42,\n",
        "                          criterion = 'mae', n_jobs = 2, \n",
        "                          min_samples_leaf=10, \n",
        "                          max_features = 'sqrt', oob_score = True)\n",
        "m.fit(df.drop('Id', axis = 1), y)\n",
        "    "
      ],
      "execution_count": 0,
      "outputs": [
        {
          "output_type": "stream",
          "text": [
            "CPU times: user 15min 54s, sys: 198 ms, total: 15min 54s\n",
            "Wall time: 8min 4s\n"
          ],
          "name": "stdout"
        }
      ]
    },
    {
      "metadata": {
        "id": "Qgo8-94qovMn",
        "colab_type": "code",
        "outputId": "68fe6c8b-2c32-4406-bc0b-b2828f44646e",
        "colab": {
          "base_uri": "https://localhost:8080/",
          "height": 34
        }
      },
      "cell_type": "code",
      "source": [
        "test.shape"
      ],
      "execution_count": 0,
      "outputs": [
        {
          "output_type": "execute_result",
          "data": {
            "text/plain": [
              "(1934174, 28)"
            ]
          },
          "metadata": {
            "tags": []
          },
          "execution_count": 68
        }
      ]
    },
    {
      "metadata": {
        "id": "1_ydzSHTDJxU",
        "colab_type": "code",
        "outputId": "0f3cf7bd-b7fd-4723-bc4c-19c44bb55e1a",
        "colab": {
          "base_uri": "https://localhost:8080/",
          "height": 34
        }
      },
      "cell_type": "code",
      "source": [
        "df.shape"
      ],
      "execution_count": 0,
      "outputs": [
        {
          "output_type": "execute_result",
          "data": {
            "text/plain": [
              "(44470, 28)"
            ]
          },
          "metadata": {
            "tags": []
          },
          "execution_count": 67
        }
      ]
    },
    {
      "metadata": {
        "id": "vEf3zVP2wPG9",
        "colab_type": "code",
        "outputId": "64bdd9c5-5e0e-4262-c5dc-580ceabccac5",
        "colab": {
          "base_uri": "https://localhost:8080/",
          "height": 786
        }
      },
      "cell_type": "code",
      "source": [
        "print_score(m, df.drop('Id', axis = 1), y, test.drop('Id', axis =1 ), samp_sub.drop('Id', axis =1))"
      ],
      "execution_count": 0,
      "outputs": [
        {
          "output_type": "stream",
          "text": [
            "R**2 Score of model: 0.9040487884508579\n"
          ],
          "name": "stdout"
        },
        {
          "output_type": "error",
          "ename": "ValueError",
          "evalue": "ignored",
          "traceback": [
            "\u001b[0;31m---------------------------------------------------------------------------\u001b[0m",
            "\u001b[0;31mValueError\u001b[0m                                Traceback (most recent call last)",
            "\u001b[0;32m<ipython-input-62-10ec1decbd55>\u001b[0m in \u001b[0;36m<module>\u001b[0;34m()\u001b[0m\n\u001b[0;32m----> 1\u001b[0;31m \u001b[0mprint_score\u001b[0m\u001b[0;34m(\u001b[0m\u001b[0mm\u001b[0m\u001b[0;34m,\u001b[0m \u001b[0mdf\u001b[0m\u001b[0;34m.\u001b[0m\u001b[0mdrop\u001b[0m\u001b[0;34m(\u001b[0m\u001b[0;34m'Id'\u001b[0m\u001b[0;34m,\u001b[0m \u001b[0maxis\u001b[0m \u001b[0;34m=\u001b[0m \u001b[0;36m1\u001b[0m\u001b[0;34m)\u001b[0m\u001b[0;34m,\u001b[0m \u001b[0my\u001b[0m\u001b[0;34m,\u001b[0m \u001b[0mtest\u001b[0m\u001b[0;34m.\u001b[0m\u001b[0mdrop\u001b[0m\u001b[0;34m(\u001b[0m\u001b[0;34m'Id'\u001b[0m\u001b[0;34m,\u001b[0m \u001b[0maxis\u001b[0m \u001b[0;34m=\u001b[0m\u001b[0;36m1\u001b[0m \u001b[0;34m)\u001b[0m\u001b[0;34m,\u001b[0m \u001b[0msamp_sub\u001b[0m\u001b[0;34m.\u001b[0m\u001b[0mdrop\u001b[0m\u001b[0;34m(\u001b[0m\u001b[0;34m'Id'\u001b[0m\u001b[0;34m,\u001b[0m \u001b[0maxis\u001b[0m \u001b[0;34m=\u001b[0m\u001b[0;36m1\u001b[0m\u001b[0;34m)\u001b[0m\u001b[0;34m)\u001b[0m\u001b[0;34m\u001b[0m\u001b[0;34m\u001b[0m\u001b[0m\n\u001b[0m",
            "\u001b[0;32m<ipython-input-19-77b19b093d7c>\u001b[0m in \u001b[0;36mprint_score\u001b[0;34m(m, X_train, y_train, X_test, y_test, verbose)\u001b[0m\n\u001b[1;32m      2\u001b[0m   \u001b[0;32mif\u001b[0m \u001b[0mverbose\u001b[0m\u001b[0;34m:\u001b[0m\u001b[0;34m\u001b[0m\u001b[0;34m\u001b[0m\u001b[0m\n\u001b[1;32m      3\u001b[0m     \u001b[0mprint\u001b[0m\u001b[0;34m(\u001b[0m\u001b[0;34m\"R**2 Score of model: \"\u001b[0m \u001b[0;34m+\u001b[0m \u001b[0mstr\u001b[0m\u001b[0;34m(\u001b[0m\u001b[0mm\u001b[0m\u001b[0;34m.\u001b[0m\u001b[0mscore\u001b[0m\u001b[0;34m(\u001b[0m\u001b[0mX_train\u001b[0m\u001b[0;34m,\u001b[0m \u001b[0my_train\u001b[0m\u001b[0;34m)\u001b[0m\u001b[0;34m)\u001b[0m\u001b[0;34m)\u001b[0m\u001b[0;34m\u001b[0m\u001b[0;34m\u001b[0m\u001b[0m\n\u001b[0;32m----> 4\u001b[0;31m     \u001b[0mprint\u001b[0m\u001b[0;34m(\u001b[0m\u001b[0;34m\"Mean Abs Error: \"\u001b[0m \u001b[0;34m+\u001b[0m \u001b[0mstr\u001b[0m\u001b[0;34m(\u001b[0m\u001b[0mmean_absolute_error\u001b[0m\u001b[0;34m(\u001b[0m\u001b[0my_test\u001b[0m\u001b[0;34m,\u001b[0m \u001b[0mm\u001b[0m\u001b[0;34m.\u001b[0m\u001b[0mpredict\u001b[0m\u001b[0;34m(\u001b[0m\u001b[0mX_test\u001b[0m\u001b[0;34m)\u001b[0m\u001b[0;34m)\u001b[0m\u001b[0;34m)\u001b[0m\u001b[0;34m)\u001b[0m\u001b[0;34m\u001b[0m\u001b[0;34m\u001b[0m\u001b[0m\n\u001b[0m\u001b[1;32m      5\u001b[0m     \u001b[0mprint\u001b[0m\u001b[0;34m(\u001b[0m\u001b[0;34m\"OOB Score: \"\u001b[0m \u001b[0;34m+\u001b[0m \u001b[0mstr\u001b[0m\u001b[0;34m(\u001b[0m\u001b[0mm\u001b[0m\u001b[0;34m.\u001b[0m\u001b[0moob_score_\u001b[0m\u001b[0;34m)\u001b[0m\u001b[0;34m)\u001b[0m\u001b[0;34m\u001b[0m\u001b[0;34m\u001b[0m\u001b[0m\n\u001b[1;32m      6\u001b[0m   \u001b[0;32melse\u001b[0m\u001b[0;34m:\u001b[0m\u001b[0;34m\u001b[0m\u001b[0;34m\u001b[0m\u001b[0m\n",
            "\u001b[0;32m/usr/local/lib/python3.6/dist-packages/sklearn/ensemble/forest.py\u001b[0m in \u001b[0;36mpredict\u001b[0;34m(self, X)\u001b[0m\n\u001b[1;32m    679\u001b[0m         \u001b[0mcheck_is_fitted\u001b[0m\u001b[0;34m(\u001b[0m\u001b[0mself\u001b[0m\u001b[0;34m,\u001b[0m \u001b[0;34m'estimators_'\u001b[0m\u001b[0;34m)\u001b[0m\u001b[0;34m\u001b[0m\u001b[0;34m\u001b[0m\u001b[0m\n\u001b[1;32m    680\u001b[0m         \u001b[0;31m# Check data\u001b[0m\u001b[0;34m\u001b[0m\u001b[0;34m\u001b[0m\u001b[0;34m\u001b[0m\u001b[0m\n\u001b[0;32m--> 681\u001b[0;31m         \u001b[0mX\u001b[0m \u001b[0;34m=\u001b[0m \u001b[0mself\u001b[0m\u001b[0;34m.\u001b[0m\u001b[0m_validate_X_predict\u001b[0m\u001b[0;34m(\u001b[0m\u001b[0mX\u001b[0m\u001b[0;34m)\u001b[0m\u001b[0;34m\u001b[0m\u001b[0;34m\u001b[0m\u001b[0m\n\u001b[0m\u001b[1;32m    682\u001b[0m \u001b[0;34m\u001b[0m\u001b[0m\n\u001b[1;32m    683\u001b[0m         \u001b[0;31m# Assign chunk of trees to jobs\u001b[0m\u001b[0;34m\u001b[0m\u001b[0;34m\u001b[0m\u001b[0;34m\u001b[0m\u001b[0m\n",
            "\u001b[0;32m/usr/local/lib/python3.6/dist-packages/sklearn/ensemble/forest.py\u001b[0m in \u001b[0;36m_validate_X_predict\u001b[0;34m(self, X)\u001b[0m\n\u001b[1;32m    355\u001b[0m                                  \"call `fit` before exploiting the model.\")\n\u001b[1;32m    356\u001b[0m \u001b[0;34m\u001b[0m\u001b[0m\n\u001b[0;32m--> 357\u001b[0;31m         \u001b[0;32mreturn\u001b[0m \u001b[0mself\u001b[0m\u001b[0;34m.\u001b[0m\u001b[0mestimators_\u001b[0m\u001b[0;34m[\u001b[0m\u001b[0;36m0\u001b[0m\u001b[0;34m]\u001b[0m\u001b[0;34m.\u001b[0m\u001b[0m_validate_X_predict\u001b[0m\u001b[0;34m(\u001b[0m\u001b[0mX\u001b[0m\u001b[0;34m,\u001b[0m \u001b[0mcheck_input\u001b[0m\u001b[0;34m=\u001b[0m\u001b[0;32mTrue\u001b[0m\u001b[0;34m)\u001b[0m\u001b[0;34m\u001b[0m\u001b[0;34m\u001b[0m\u001b[0m\n\u001b[0m\u001b[1;32m    358\u001b[0m \u001b[0;34m\u001b[0m\u001b[0m\n\u001b[1;32m    359\u001b[0m     \u001b[0;34m@\u001b[0m\u001b[0mproperty\u001b[0m\u001b[0;34m\u001b[0m\u001b[0;34m\u001b[0m\u001b[0m\n",
            "\u001b[0;32m/usr/local/lib/python3.6/dist-packages/sklearn/tree/tree.py\u001b[0m in \u001b[0;36m_validate_X_predict\u001b[0;34m(self, X, check_input)\u001b[0m\n\u001b[1;32m    371\u001b[0m         \u001b[0;34m\"\"\"Validate X whenever one tries to predict, apply, predict_proba\"\"\"\u001b[0m\u001b[0;34m\u001b[0m\u001b[0;34m\u001b[0m\u001b[0m\n\u001b[1;32m    372\u001b[0m         \u001b[0;32mif\u001b[0m \u001b[0mcheck_input\u001b[0m\u001b[0;34m:\u001b[0m\u001b[0;34m\u001b[0m\u001b[0;34m\u001b[0m\u001b[0m\n\u001b[0;32m--> 373\u001b[0;31m             \u001b[0mX\u001b[0m \u001b[0;34m=\u001b[0m \u001b[0mcheck_array\u001b[0m\u001b[0;34m(\u001b[0m\u001b[0mX\u001b[0m\u001b[0;34m,\u001b[0m \u001b[0mdtype\u001b[0m\u001b[0;34m=\u001b[0m\u001b[0mDTYPE\u001b[0m\u001b[0;34m,\u001b[0m \u001b[0maccept_sparse\u001b[0m\u001b[0;34m=\u001b[0m\u001b[0;34m\"csr\"\u001b[0m\u001b[0;34m)\u001b[0m\u001b[0;34m\u001b[0m\u001b[0;34m\u001b[0m\u001b[0m\n\u001b[0m\u001b[1;32m    374\u001b[0m             if issparse(X) and (X.indices.dtype != np.intc or\n\u001b[1;32m    375\u001b[0m                                 X.indptr.dtype != np.intc):\n",
            "\u001b[0;32m/usr/local/lib/python3.6/dist-packages/sklearn/utils/validation.py\u001b[0m in \u001b[0;36mcheck_array\u001b[0;34m(array, accept_sparse, dtype, order, copy, force_all_finite, ensure_2d, allow_nd, ensure_min_samples, ensure_min_features, warn_on_dtype, estimator)\u001b[0m\n\u001b[1;32m    431\u001b[0m                                       force_all_finite)\n\u001b[1;32m    432\u001b[0m     \u001b[0;32melse\u001b[0m\u001b[0;34m:\u001b[0m\u001b[0;34m\u001b[0m\u001b[0;34m\u001b[0m\u001b[0m\n\u001b[0;32m--> 433\u001b[0;31m         \u001b[0marray\u001b[0m \u001b[0;34m=\u001b[0m \u001b[0mnp\u001b[0m\u001b[0;34m.\u001b[0m\u001b[0marray\u001b[0m\u001b[0;34m(\u001b[0m\u001b[0marray\u001b[0m\u001b[0;34m,\u001b[0m \u001b[0mdtype\u001b[0m\u001b[0;34m=\u001b[0m\u001b[0mdtype\u001b[0m\u001b[0;34m,\u001b[0m \u001b[0morder\u001b[0m\u001b[0;34m=\u001b[0m\u001b[0morder\u001b[0m\u001b[0;34m,\u001b[0m \u001b[0mcopy\u001b[0m\u001b[0;34m=\u001b[0m\u001b[0mcopy\u001b[0m\u001b[0;34m)\u001b[0m\u001b[0;34m\u001b[0m\u001b[0;34m\u001b[0m\u001b[0m\n\u001b[0m\u001b[1;32m    434\u001b[0m \u001b[0;34m\u001b[0m\u001b[0m\n\u001b[1;32m    435\u001b[0m         \u001b[0;32mif\u001b[0m \u001b[0mensure_2d\u001b[0m\u001b[0;34m:\u001b[0m\u001b[0;34m\u001b[0m\u001b[0;34m\u001b[0m\u001b[0m\n",
            "\u001b[0;31mValueError\u001b[0m: could not convert string to float: 'squad-fpp'"
          ]
        }
      ]
    },
    {
      "metadata": {
        "id": "HvbpBzTs7Ec_",
        "colab_type": "text"
      },
      "cell_type": "markdown",
      "source": [
        "##Create a final model with ALL data"
      ]
    },
    {
      "metadata": {
        "id": "cIpNVlqczjwv",
        "colab_type": "code",
        "outputId": "986a6da8-f592-4a4d-f14d-bfe9ae302533",
        "colab": {
          "base_uri": "https://localhost:8080/",
          "height": 35
        }
      },
      "cell_type": "code",
      "source": [
        "np.random.permutation(10)[:5]"
      ],
      "execution_count": 0,
      "outputs": [
        {
          "output_type": "execute_result",
          "data": {
            "text/plain": [
              "array([8, 2, 7, 6, 4])"
            ]
          },
          "metadata": {
            "tags": []
          },
          "execution_count": 56
        }
      ]
    },
    {
      "metadata": {
        "id": "-jE0ZYm6qZp9",
        "colab_type": "code",
        "outputId": "3f3a807e-846b-4117-9565-335f281376a6",
        "colab": {
          "base_uri": "https://localhost:8080/",
          "height": 146
        }
      },
      "cell_type": "code",
      "source": [
        "train_small.columns"
      ],
      "execution_count": 0,
      "outputs": [
        {
          "output_type": "execute_result",
          "data": {
            "text/plain": [
              "Index(['Id', 'groupId', 'matchId', 'assists', 'boosts', 'damageDealt', 'DBNOs',\n",
              "       'headshotKills', 'heals', 'killPlace', 'killPoints', 'kills',\n",
              "       'killStreaks', 'longestKill', 'matchDuration', 'matchType', 'maxPlace',\n",
              "       'numGroups', 'rankPoints', 'revives', 'rideDistance', 'roadKills',\n",
              "       'swimDistance', 'teamKills', 'vehicleDestroys', 'walkDistance',\n",
              "       'weaponsAcquired', 'winPoints', 'winPlacePerc'],\n",
              "      dtype='object')"
            ]
          },
          "metadata": {
            "tags": []
          },
          "execution_count": 57
        }
      ]
    },
    {
      "metadata": {
        "id": "TURMpoCLuWrs",
        "colab_type": "text"
      },
      "cell_type": "markdown",
      "source": [
        "#Grid Search for best RF Hyperparameters"
      ]
    },
    {
      "metadata": {
        "id": "4m1NbuVchoZ7",
        "colab_type": "code",
        "outputId": "efe514c0-393c-4c39-db0c-d7e985efde22",
        "colab": {
          "base_uri": "https://localhost:8080/",
          "height": 55
        }
      },
      "cell_type": "code",
      "source": [
        "random_grid = {'n_estimators': [int(x) for x in np.linspace(start = 200, stop = 2000, num = 5)],\n",
        "               'max_features': ['auto', 'sqrt'],\n",
        "               'max_depth': [int(x) for x in np.linspace(10, 110, num = 5)],\n",
        "               'min_samples_split': [2, 5, 10],\n",
        "               'min_samples_leaf': [1, 3, 5, 10],\n",
        "               'bootstrap': [True, False]}\n",
        "\n",
        "print(random_grid)"
      ],
      "execution_count": 0,
      "outputs": [
        {
          "output_type": "stream",
          "text": [
            "{'n_estimators': [200, 650, 1100, 1550, 2000], 'max_features': ['auto', 'sqrt'], 'max_depth': [10, 35, 60, 85, 110], 'min_samples_split': [2, 5, 10], 'min_samples_leaf': [1, 3, 5, 10], 'bootstrap': [True, False]}\n"
          ],
          "name": "stdout"
        }
      ]
    },
    {
      "metadata": {
        "id": "ygEdt-FFT4sv",
        "colab_type": "code",
        "outputId": "f65d4b86-0e00-42d1-bab5-fa65c247b5c1",
        "colab": {
          "base_uri": "https://localhost:8080/",
          "height": 1523
        }
      },
      "cell_type": "code",
      "source": [
        "%%time\n",
        "rf=RandomForestRegressor()\n",
        "rf_random = RandomizedSearchCV(estimator = rf, param_distributions = random_grid, n_iter = 100, cv = 3, verbose=2, random_state=42, n_jobs = 2)\n",
        "# Fit the random search model\n",
        "rf_random.fit(X_train, y_train)"
      ],
      "execution_count": 0,
      "outputs": [
        {
          "output_type": "stream",
          "text": [
            "Fitting 3 folds for each of 100 candidates, totalling 300 fits\n",
            "[CV] n_estimators=1550, min_samples_split=5, min_samples_leaf=5, max_features=sqrt, max_depth=110, bootstrap=False \n",
            "[CV] n_estimators=1550, min_samples_split=5, min_samples_leaf=5, max_features=sqrt, max_depth=110, bootstrap=False \n",
            "[CV]  n_estimators=1550, min_samples_split=5, min_samples_leaf=5, max_features=sqrt, max_depth=110, bootstrap=False, total= 1.6min\n",
            "[CV] n_estimators=1550, min_samples_split=5, min_samples_leaf=5, max_features=sqrt, max_depth=110, bootstrap=False \n",
            "[CV]  n_estimators=1550, min_samples_split=5, min_samples_leaf=5, max_features=sqrt, max_depth=110, bootstrap=False, total= 1.6min\n",
            "[CV] n_estimators=200, min_samples_split=10, min_samples_leaf=3, max_features=auto, max_depth=60, bootstrap=False \n",
            "[CV]  n_estimators=200, min_samples_split=10, min_samples_leaf=3, max_features=auto, max_depth=60, bootstrap=False, total=  59.5s\n",
            "[CV] n_estimators=200, min_samples_split=10, min_samples_leaf=3, max_features=auto, max_depth=60, bootstrap=False \n",
            "[CV]  n_estimators=1550, min_samples_split=5, min_samples_leaf=5, max_features=sqrt, max_depth=110, bootstrap=False, total= 1.6min\n",
            "[CV] n_estimators=200, min_samples_split=10, min_samples_leaf=3, max_features=auto, max_depth=60, bootstrap=False \n",
            "[CV]  n_estimators=200, min_samples_split=10, min_samples_leaf=3, max_features=auto, max_depth=60, bootstrap=False, total= 1.0min\n",
            "[CV] n_estimators=650, min_samples_split=10, min_samples_leaf=5, max_features=sqrt, max_depth=10, bootstrap=True \n",
            "[CV]  n_estimators=650, min_samples_split=10, min_samples_leaf=5, max_features=sqrt, max_depth=10, bootstrap=True, total=  19.6s\n",
            "[CV] n_estimators=650, min_samples_split=10, min_samples_leaf=5, max_features=sqrt, max_depth=10, bootstrap=True \n",
            "[CV]  n_estimators=200, min_samples_split=10, min_samples_leaf=3, max_features=auto, max_depth=60, bootstrap=False, total=  59.3s\n",
            "[CV] n_estimators=650, min_samples_split=10, min_samples_leaf=5, max_features=sqrt, max_depth=10, bootstrap=True \n",
            "[CV]  n_estimators=650, min_samples_split=10, min_samples_leaf=5, max_features=sqrt, max_depth=10, bootstrap=True, total=  19.6s\n",
            "[CV] n_estimators=2000, min_samples_split=2, min_samples_leaf=3, max_features=sqrt, max_depth=85, bootstrap=True \n",
            "[CV]  n_estimators=650, min_samples_split=10, min_samples_leaf=5, max_features=sqrt, max_depth=10, bootstrap=True, total=  19.4s\n",
            "[CV] n_estimators=2000, min_samples_split=2, min_samples_leaf=3, max_features=sqrt, max_depth=85, bootstrap=True \n",
            "[CV]  n_estimators=2000, min_samples_split=2, min_samples_leaf=3, max_features=sqrt, max_depth=85, bootstrap=True, total= 1.4min\n",
            "[CV] n_estimators=2000, min_samples_split=2, min_samples_leaf=3, max_features=sqrt, max_depth=85, bootstrap=True \n",
            "[CV]  n_estimators=2000, min_samples_split=2, min_samples_leaf=3, max_features=sqrt, max_depth=85, bootstrap=True, total= 1.5min\n",
            "[CV] n_estimators=1550, min_samples_split=10, min_samples_leaf=10, max_features=auto, max_depth=10, bootstrap=True \n",
            "[CV]  n_estimators=2000, min_samples_split=2, min_samples_leaf=3, max_features=sqrt, max_depth=85, bootstrap=True, total= 1.5min\n",
            "[CV] n_estimators=1550, min_samples_split=10, min_samples_leaf=10, max_features=auto, max_depth=10, bootstrap=True \n",
            "[CV]  n_estimators=1550, min_samples_split=10, min_samples_leaf=10, max_features=auto, max_depth=10, bootstrap=True, total= 3.5min\n",
            "[CV] n_estimators=1550, min_samples_split=10, min_samples_leaf=10, max_features=auto, max_depth=10, bootstrap=True \n",
            "[CV]  n_estimators=1550, min_samples_split=10, min_samples_leaf=10, max_features=auto, max_depth=10, bootstrap=True, total= 3.5min\n",
            "[CV] n_estimators=200, min_samples_split=10, min_samples_leaf=5, max_features=auto, max_depth=110, bootstrap=False \n",
            "[CV]  n_estimators=200, min_samples_split=10, min_samples_leaf=5, max_features=auto, max_depth=110, bootstrap=False, total=  56.4s\n",
            "[CV] n_estimators=200, min_samples_split=10, min_samples_leaf=5, max_features=auto, max_depth=110, bootstrap=False \n",
            "[CV]  n_estimators=200, min_samples_split=10, min_samples_leaf=5, max_features=auto, max_depth=110, bootstrap=False, total=  58.0s\n",
            "[CV] n_estimators=200, min_samples_split=10, min_samples_leaf=5, max_features=auto, max_depth=110, bootstrap=False \n",
            "[CV]  n_estimators=1550, min_samples_split=10, min_samples_leaf=10, max_features=auto, max_depth=10, bootstrap=True, total= 3.6min\n",
            "[CV] n_estimators=1550, min_samples_split=5, min_samples_leaf=3, max_features=sqrt, max_depth=60, bootstrap=True \n",
            "[CV]  n_estimators=200, min_samples_split=10, min_samples_leaf=5, max_features=auto, max_depth=110, bootstrap=False, total=  57.0s\n",
            "[CV] n_estimators=1550, min_samples_split=5, min_samples_leaf=3, max_features=sqrt, max_depth=60, bootstrap=True \n",
            "[CV]  n_estimators=1550, min_samples_split=5, min_samples_leaf=3, max_features=sqrt, max_depth=60, bootstrap=True, total= 1.1min\n",
            "[CV] n_estimators=1550, min_samples_split=5, min_samples_leaf=3, max_features=sqrt, max_depth=60, bootstrap=True \n",
            "[CV]  n_estimators=1550, min_samples_split=5, min_samples_leaf=3, max_features=sqrt, max_depth=60, bootstrap=True, total= 1.1min\n",
            "[CV] n_estimators=2000, min_samples_split=10, min_samples_leaf=1, max_features=auto, max_depth=85, bootstrap=False \n",
            "[CV]  n_estimators=1550, min_samples_split=5, min_samples_leaf=3, max_features=sqrt, max_depth=60, bootstrap=True, total= 1.1min\n",
            "[CV] n_estimators=2000, min_samples_split=10, min_samples_leaf=1, max_features=auto, max_depth=85, bootstrap=False \n",
            "[CV]  n_estimators=2000, min_samples_split=10, min_samples_leaf=1, max_features=auto, max_depth=85, bootstrap=False, total=10.7min\n",
            "[CV] n_estimators=2000, min_samples_split=10, min_samples_leaf=1, max_features=auto, max_depth=85, bootstrap=False \n",
            "[CV]  n_estimators=2000, min_samples_split=10, min_samples_leaf=1, max_features=auto, max_depth=85, bootstrap=False, total=10.9min\n",
            "[CV] n_estimators=650, min_samples_split=5, min_samples_leaf=10, max_features=auto, max_depth=85, bootstrap=True \n",
            "[CV]  n_estimators=650, min_samples_split=5, min_samples_leaf=10, max_features=auto, max_depth=85, bootstrap=True, total= 1.6min\n",
            "[CV] n_estimators=650, min_samples_split=5, min_samples_leaf=10, max_features=auto, max_depth=85, bootstrap=True \n",
            "[CV]  n_estimators=650, min_samples_split=5, min_samples_leaf=10, max_features=auto, max_depth=85, bootstrap=True, total= 1.6min\n",
            "[CV] n_estimators=650, min_samples_split=5, min_samples_leaf=10, max_features=auto, max_depth=85, bootstrap=True \n",
            "[CV]  n_estimators=650, min_samples_split=5, min_samples_leaf=10, max_features=auto, max_depth=85, bootstrap=True, total= 1.6min\n",
            "[CV] n_estimators=200, min_samples_split=2, min_samples_leaf=3, max_features=auto, max_depth=60, bootstrap=False \n",
            "[CV]  n_estimators=200, min_samples_split=2, min_samples_leaf=3, max_features=auto, max_depth=60, bootstrap=False, total= 1.0min\n",
            "[CV] n_estimators=200, min_samples_split=2, min_samples_leaf=3, max_features=auto, max_depth=60, bootstrap=False \n",
            "[CV]  n_estimators=200, min_samples_split=2, min_samples_leaf=3, max_features=auto, max_depth=60, bootstrap=False, total= 1.0min\n",
            "[CV] n_estimators=200, min_samples_split=2, min_samples_leaf=3, max_features=auto, max_depth=60, bootstrap=False \n",
            "[CV]  n_estimators=200, min_samples_split=2, min_samples_leaf=3, max_features=auto, max_depth=60, bootstrap=False, total= 1.0min\n",
            "[CV] n_estimators=200, min_samples_split=10, min_samples_leaf=5, max_features=sqrt, max_depth=35, bootstrap=False \n",
            "[CV]  n_estimators=200, min_samples_split=10, min_samples_leaf=5, max_features=sqrt, max_depth=35, bootstrap=False, total=  12.2s\n",
            "[CV] n_estimators=200, min_samples_split=10, min_samples_leaf=5, max_features=sqrt, max_depth=35, bootstrap=False \n",
            "[CV]  n_estimators=200, min_samples_split=10, min_samples_leaf=5, max_features=sqrt, max_depth=35, bootstrap=False, total=  12.2s\n",
            "[CV] n_estimators=200, min_samples_split=10, min_samples_leaf=5, max_features=sqrt, max_depth=35, bootstrap=False \n",
            "[CV]  n_estimators=200, min_samples_split=10, min_samples_leaf=5, max_features=sqrt, max_depth=35, bootstrap=False, total=  12.2s\n",
            "[CV] n_estimators=2000, min_samples_split=10, min_samples_leaf=5, max_features=auto, max_depth=10, bootstrap=True \n",
            "[CV]  n_estimators=2000, min_samples_split=10, min_samples_leaf=1, max_features=auto, max_depth=85, bootstrap=False, total=10.8min\n",
            "[CV] n_estimators=2000, min_samples_split=10, min_samples_leaf=5, max_features=auto, max_depth=10, bootstrap=True \n",
            "[CV]  n_estimators=2000, min_samples_split=10, min_samples_leaf=5, max_features=auto, max_depth=10, bootstrap=True, total= 4.7min\n",
            "[CV] n_estimators=2000, min_samples_split=10, min_samples_leaf=5, max_features=auto, max_depth=10, bootstrap=True \n",
            "[CV]  n_estimators=2000, min_samples_split=10, min_samples_leaf=5, max_features=auto, max_depth=10, bootstrap=True, total= 4.7min\n",
            "[CV] n_estimators=2000, min_samples_split=2, min_samples_leaf=10, max_features=auto, max_depth=10, bootstrap=True \n",
            "[CV]  n_estimators=2000, min_samples_split=10, min_samples_leaf=5, max_features=auto, max_depth=10, bootstrap=True, total= 4.7min\n",
            "[CV] n_estimators=2000, min_samples_split=2, min_samples_leaf=10, max_features=auto, max_depth=10, bootstrap=True \n",
            "[CV]  n_estimators=2000, min_samples_split=2, min_samples_leaf=10, max_features=auto, max_depth=10, bootstrap=True, total= 4.5min\n",
            "[CV] n_estimators=2000, min_samples_split=2, min_samples_leaf=10, max_features=auto, max_depth=10, bootstrap=True \n"
          ],
          "name": "stdout"
        },
        {
          "output_type": "stream",
          "text": [
            "[Parallel(n_jobs=2)]: Done  37 tasks      | elapsed: 46.3min\n"
          ],
          "name": "stderr"
        },
        {
          "output_type": "stream",
          "text": [
            "[CV]  n_estimators=2000, min_samples_split=2, min_samples_leaf=10, max_features=auto, max_depth=10, bootstrap=True, total= 4.5min\n",
            "[CV] n_estimators=2000, min_samples_split=5, min_samples_leaf=1, max_features=auto, max_depth=60, bootstrap=False \n",
            "[CV]  n_estimators=2000, min_samples_split=2, min_samples_leaf=10, max_features=auto, max_depth=10, bootstrap=True, total= 4.5min\n",
            "[CV] n_estimators=2000, min_samples_split=5, min_samples_leaf=1, max_features=auto, max_depth=60, bootstrap=False \n"
          ],
          "name": "stdout"
        }
      ]
    },
    {
      "metadata": {
        "id": "K4qGF5fKT4_x",
        "colab_type": "code",
        "colab": {}
      },
      "cell_type": "code",
      "source": [
        "rf_random.best_params_"
      ],
      "execution_count": 0,
      "outputs": []
    },
    {
      "metadata": {
        "id": "obKxlhBQhc5f",
        "colab_type": "code",
        "colab": {}
      },
      "cell_type": "code",
      "source": [
        "mean_absolute_error(y, m.predict(df))"
      ],
      "execution_count": 0,
      "outputs": []
    },
    {
      "metadata": {
        "id": "1cqr4GmJ1ys1",
        "colab_type": "code",
        "colab": {}
      },
      "cell_type": "code",
      "source": [
        "?np.log1p"
      ],
      "execution_count": 0,
      "outputs": []
    },
    {
      "metadata": {
        "id": "3THyJJ0Khkcq",
        "colab_type": "code",
        "outputId": "fa1e7ef7-6127-474f-8220-8fad61d8c3b3",
        "colab": {
          "base_uri": "https://localhost:8080/",
          "height": 50
        }
      },
      "cell_type": "code",
      "source": [
        "%time add_datepart(df_all, 'date')"
      ],
      "execution_count": 0,
      "outputs": [
        {
          "output_type": "stream",
          "text": [
            "CPU times: user 3.62 s, sys: 664 ms, total: 4.29 s\n",
            "Wall time: 4.3 s\n"
          ],
          "name": "stdout"
        }
      ]
    },
    {
      "metadata": {
        "id": "9ihWDsRCivpe",
        "colab_type": "code",
        "colab": {}
      },
      "cell_type": "code",
      "source": [
        "def split_vals(a,n): return a[:n].copy(), a[n:].copy()"
      ],
      "execution_count": 0,
      "outputs": []
    },
    {
      "metadata": {
        "id": "R7mQsR-aq8MP",
        "colab_type": "code",
        "outputId": "6421356c-8d29-4730-8180-a522e6da7cc7",
        "colab": {
          "base_uri": "https://localhost:8080/",
          "height": 195
        }
      },
      "cell_type": "code",
      "source": [
        "df_test.head()"
      ],
      "execution_count": 0,
      "outputs": [
        {
          "output_type": "execute_result",
          "data": {
            "text/html": [
              "<div>\n",
              "<style scoped>\n",
              "    .dataframe tbody tr th:only-of-type {\n",
              "        vertical-align: middle;\n",
              "    }\n",
              "\n",
              "    .dataframe tbody tr th {\n",
              "        vertical-align: top;\n",
              "    }\n",
              "\n",
              "    .dataframe thead th {\n",
              "        text-align: right;\n",
              "    }\n",
              "</style>\n",
              "<table border=\"1\" class=\"dataframe\">\n",
              "  <thead>\n",
              "    <tr style=\"text-align: right;\">\n",
              "      <th></th>\n",
              "      <th>id</th>\n",
              "      <th>date</th>\n",
              "      <th>store_nbr</th>\n",
              "      <th>item_nbr</th>\n",
              "      <th>onpromotion</th>\n",
              "    </tr>\n",
              "  </thead>\n",
              "  <tbody>\n",
              "    <tr>\n",
              "      <th>0</th>\n",
              "      <td>125497040</td>\n",
              "      <td>2017-08-16</td>\n",
              "      <td>1</td>\n",
              "      <td>96995</td>\n",
              "      <td>True</td>\n",
              "    </tr>\n",
              "    <tr>\n",
              "      <th>1</th>\n",
              "      <td>125497041</td>\n",
              "      <td>2017-08-16</td>\n",
              "      <td>1</td>\n",
              "      <td>99197</td>\n",
              "      <td>True</td>\n",
              "    </tr>\n",
              "    <tr>\n",
              "      <th>2</th>\n",
              "      <td>125497042</td>\n",
              "      <td>2017-08-16</td>\n",
              "      <td>1</td>\n",
              "      <td>103501</td>\n",
              "      <td>True</td>\n",
              "    </tr>\n",
              "    <tr>\n",
              "      <th>3</th>\n",
              "      <td>125497043</td>\n",
              "      <td>2017-08-16</td>\n",
              "      <td>1</td>\n",
              "      <td>103520</td>\n",
              "      <td>True</td>\n",
              "    </tr>\n",
              "    <tr>\n",
              "      <th>4</th>\n",
              "      <td>125497044</td>\n",
              "      <td>2017-08-16</td>\n",
              "      <td>1</td>\n",
              "      <td>103665</td>\n",
              "      <td>True</td>\n",
              "    </tr>\n",
              "  </tbody>\n",
              "</table>\n",
              "</div>"
            ],
            "text/plain": [
              "          id       date  store_nbr  item_nbr  onpromotion\n",
              "0  125497040 2017-08-16          1     96995         True\n",
              "1  125497041 2017-08-16          1     99197         True\n",
              "2  125497042 2017-08-16          1    103501         True\n",
              "3  125497043 2017-08-16          1    103520         True\n",
              "4  125497044 2017-08-16          1    103665         True"
            ]
          },
          "metadata": {
            "tags": []
          },
          "execution_count": 26
        }
      ]
    },
    {
      "metadata": {
        "id": "TLOG4a9aj606",
        "colab_type": "code",
        "colab": {}
      },
      "cell_type": "code",
      "source": [
        "n_valid = len(df_test)\n",
        "n_trn = len(df_all)-n_valid\n",
        "train, valid = split_vals(df_all, n_trn)"
      ],
      "execution_count": 0,
      "outputs": []
    },
    {
      "metadata": {
        "id": "595UOm5Q1My4",
        "colab_type": "code",
        "outputId": "73e06bc3-77f4-4eb1-af47-76a3662e9d02",
        "colab": {
          "base_uri": "https://localhost:8080/",
          "height": 215
        }
      },
      "cell_type": "code",
      "source": [
        "valid.head()"
      ],
      "execution_count": 0,
      "outputs": [
        {
          "output_type": "execute_result",
          "data": {
            "text/html": [
              "<div>\n",
              "<style scoped>\n",
              "    .dataframe tbody tr th:only-of-type {\n",
              "        vertical-align: middle;\n",
              "    }\n",
              "\n",
              "    .dataframe tbody tr th {\n",
              "        vertical-align: top;\n",
              "    }\n",
              "\n",
              "    .dataframe thead th {\n",
              "        text-align: right;\n",
              "    }\n",
              "</style>\n",
              "<table border=\"1\" class=\"dataframe\">\n",
              "  <thead>\n",
              "    <tr style=\"text-align: right;\">\n",
              "      <th></th>\n",
              "      <th>id</th>\n",
              "      <th>store_nbr</th>\n",
              "      <th>item_nbr</th>\n",
              "      <th>unit_sales</th>\n",
              "      <th>onpromotion</th>\n",
              "      <th>Year</th>\n",
              "      <th>Month</th>\n",
              "      <th>Week</th>\n",
              "      <th>Day</th>\n",
              "      <th>Dayofweek</th>\n",
              "      <th>Dayofyear</th>\n",
              "      <th>Is_month_end</th>\n",
              "      <th>Is_month_start</th>\n",
              "      <th>Is_quarter_end</th>\n",
              "      <th>Is_quarter_start</th>\n",
              "      <th>Is_year_end</th>\n",
              "      <th>Is_year_start</th>\n",
              "      <th>Elapsed</th>\n",
              "    </tr>\n",
              "  </thead>\n",
              "  <tbody>\n",
              "    <tr>\n",
              "      <th>3000000</th>\n",
              "      <td>3000000</td>\n",
              "      <td>47</td>\n",
              "      <td>802831</td>\n",
              "      <td>3.044523</td>\n",
              "      <td>True</td>\n",
              "      <td>2013</td>\n",
              "      <td>3</td>\n",
              "      <td>11</td>\n",
              "      <td>15</td>\n",
              "      <td>4</td>\n",
              "      <td>74</td>\n",
              "      <td>False</td>\n",
              "      <td>False</td>\n",
              "      <td>False</td>\n",
              "      <td>False</td>\n",
              "      <td>False</td>\n",
              "      <td>False</td>\n",
              "      <td>1363305600</td>\n",
              "    </tr>\n",
              "    <tr>\n",
              "      <th>3000001</th>\n",
              "      <td>3000001</td>\n",
              "      <td>47</td>\n",
              "      <td>802832</td>\n",
              "      <td>2.079442</td>\n",
              "      <td>True</td>\n",
              "      <td>2013</td>\n",
              "      <td>3</td>\n",
              "      <td>11</td>\n",
              "      <td>15</td>\n",
              "      <td>4</td>\n",
              "      <td>74</td>\n",
              "      <td>False</td>\n",
              "      <td>False</td>\n",
              "      <td>False</td>\n",
              "      <td>False</td>\n",
              "      <td>False</td>\n",
              "      <td>False</td>\n",
              "      <td>1363305600</td>\n",
              "    </tr>\n",
              "    <tr>\n",
              "      <th>3000002</th>\n",
              "      <td>3000002</td>\n",
              "      <td>47</td>\n",
              "      <td>802833</td>\n",
              "      <td>3.583519</td>\n",
              "      <td>True</td>\n",
              "      <td>2013</td>\n",
              "      <td>3</td>\n",
              "      <td>11</td>\n",
              "      <td>15</td>\n",
              "      <td>4</td>\n",
              "      <td>74</td>\n",
              "      <td>False</td>\n",
              "      <td>False</td>\n",
              "      <td>False</td>\n",
              "      <td>False</td>\n",
              "      <td>False</td>\n",
              "      <td>False</td>\n",
              "      <td>1363305600</td>\n",
              "    </tr>\n",
              "    <tr>\n",
              "      <th>3000003</th>\n",
              "      <td>3000003</td>\n",
              "      <td>47</td>\n",
              "      <td>803101</td>\n",
              "      <td>0.693147</td>\n",
              "      <td>True</td>\n",
              "      <td>2013</td>\n",
              "      <td>3</td>\n",
              "      <td>11</td>\n",
              "      <td>15</td>\n",
              "      <td>4</td>\n",
              "      <td>74</td>\n",
              "      <td>False</td>\n",
              "      <td>False</td>\n",
              "      <td>False</td>\n",
              "      <td>False</td>\n",
              "      <td>False</td>\n",
              "      <td>False</td>\n",
              "      <td>1363305600</td>\n",
              "    </tr>\n",
              "    <tr>\n",
              "      <th>3000004</th>\n",
              "      <td>3000004</td>\n",
              "      <td>47</td>\n",
              "      <td>804503</td>\n",
              "      <td>3.044523</td>\n",
              "      <td>True</td>\n",
              "      <td>2013</td>\n",
              "      <td>3</td>\n",
              "      <td>11</td>\n",
              "      <td>15</td>\n",
              "      <td>4</td>\n",
              "      <td>74</td>\n",
              "      <td>False</td>\n",
              "      <td>False</td>\n",
              "      <td>False</td>\n",
              "      <td>False</td>\n",
              "      <td>False</td>\n",
              "      <td>False</td>\n",
              "      <td>1363305600</td>\n",
              "    </tr>\n",
              "  </tbody>\n",
              "</table>\n",
              "</div>"
            ],
            "text/plain": [
              "              id  store_nbr  item_nbr  unit_sales  onpromotion  Year  Month  \\\n",
              "3000000  3000000         47    802831    3.044523         True  2013      3   \n",
              "3000001  3000001         47    802832    2.079442         True  2013      3   \n",
              "3000002  3000002         47    802833    3.583519         True  2013      3   \n",
              "3000003  3000003         47    803101    0.693147         True  2013      3   \n",
              "3000004  3000004         47    804503    3.044523         True  2013      3   \n",
              "\n",
              "         Week  Day  Dayofweek  Dayofyear  Is_month_end  Is_month_start  \\\n",
              "3000000    11   15          4         74         False           False   \n",
              "3000001    11   15          4         74         False           False   \n",
              "3000002    11   15          4         74         False           False   \n",
              "3000003    11   15          4         74         False           False   \n",
              "3000004    11   15          4         74         False           False   \n",
              "\n",
              "         Is_quarter_end  Is_quarter_start  Is_year_end  Is_year_start  \\\n",
              "3000000           False             False        False          False   \n",
              "3000001           False             False        False          False   \n",
              "3000002           False             False        False          False   \n",
              "3000003           False             False        False          False   \n",
              "3000004           False             False        False          False   \n",
              "\n",
              "            Elapsed  \n",
              "3000000  1363305600  \n",
              "3000001  1363305600  \n",
              "3000002  1363305600  \n",
              "3000003  1363305600  \n",
              "3000004  1363305600  "
            ]
          },
          "metadata": {
            "tags": []
          },
          "execution_count": 28
        }
      ]
    },
    {
      "metadata": {
        "id": "zGBZtC_04RoP",
        "colab_type": "code",
        "outputId": "63c22c60-7027-4fde-8353-47c576cc49de",
        "colab": {
          "base_uri": "https://localhost:8080/",
          "height": 34
        }
      },
      "cell_type": "code",
      "source": [
        "50000*.15"
      ],
      "execution_count": 0,
      "outputs": [
        {
          "output_type": "execute_result",
          "data": {
            "text/plain": [
              "7500.0"
            ]
          },
          "metadata": {
            "tags": []
          },
          "execution_count": 36
        }
      ]
    },
    {
      "metadata": {
        "id": "P9ilKAs-kJ8-",
        "colab_type": "code",
        "colab": {}
      },
      "cell_type": "code",
      "source": [
        "trn_proc_df = proc_df(train, 'unit_sales')\n",
        "trn = trn_proc_df[0]\n",
        "y = trn_proc_df[1]\n",
        "\n",
        "valid_proc_df = proc_df(valid, 'unit_sales')\n",
        "val = valid_proc_df[0]\n",
        "y_val = valid_proc_df[1]\n"
      ],
      "execution_count": 0,
      "outputs": []
    },
    {
      "metadata": {
        "id": "AIuKPH6R3B5y",
        "colab_type": "code",
        "colab": {}
      },
      "cell_type": "code",
      "source": [
        "def rmse(x,y): return math.sqrt(((x-y)**2).mean())\n",
        "\n",
        "def print_score(m):\n",
        "  res = [rmse(m.predict(x), y), rmse(m.predict(val), y_val),\n",
        "        m.score(x,y), m.score(val, y_val)]\n",
        "  if hasattr(m, 'oob_score_'): res.append(m.oob_score_)\n",
        "  print(res)"
      ],
      "execution_count": 0,
      "outputs": []
    },
    {
      "metadata": {
        "id": "HqpEnzHG1JCN",
        "colab_type": "code",
        "colab": {}
      },
      "cell_type": "code",
      "source": [
        "set_rf_samples(1_000_000)"
      ],
      "execution_count": 0,
      "outputs": []
    },
    {
      "metadata": {
        "id": "LXhz5jsLrLaj",
        "colab_type": "code",
        "outputId": "fcf9a942-1066-43ef-fa0a-bb4b22abc701",
        "colab": {
          "base_uri": "https://localhost:8080/",
          "height": 50
        }
      },
      "cell_type": "code",
      "source": [
        "%time x = np.array(trn, dtype=np.float32)"
      ],
      "execution_count": 0,
      "outputs": [
        {
          "output_type": "stream",
          "text": [
            "CPU times: user 2.55 s, sys: 615 ms, total: 3.17 s\n",
            "Wall time: 3.17 s\n"
          ],
          "name": "stdout"
        }
      ]
    },
    {
      "metadata": {
        "id": "1sGXoNi-4kJt",
        "colab_type": "code",
        "outputId": "e7648fd3-0974-4e4e-c576-1b15d8fbf03c",
        "colab": {
          "base_uri": "https://localhost:8080/",
          "height": 151
        }
      },
      "cell_type": "code",
      "source": [
        "m = RandomForestRegressor(n_estimators = 20, min_samples_leaf=100, n_jobs=8)\n",
        "%time m.fit(x,y)"
      ],
      "execution_count": 0,
      "outputs": [
        {
          "output_type": "stream",
          "text": [
            "CPU times: user 2min 41s, sys: 98.2 ms, total: 2min 42s\n",
            "Wall time: 1min 22s\n"
          ],
          "name": "stdout"
        },
        {
          "output_type": "execute_result",
          "data": {
            "text/plain": [
              "RandomForestRegressor(bootstrap=True, criterion='mse', max_depth=None,\n",
              "           max_features='auto', max_leaf_nodes=None,\n",
              "           min_impurity_decrease=0.0, min_impurity_split=None,\n",
              "           min_samples_leaf=100, min_samples_split=2,\n",
              "           min_weight_fraction_leaf=0.0, n_estimators=20, n_jobs=8,\n",
              "           oob_score=False, random_state=None, verbose=0, warm_start=False)"
            ]
          },
          "metadata": {
            "tags": []
          },
          "execution_count": 59
        }
      ]
    },
    {
      "metadata": {
        "id": "9ntUma4v5ID0",
        "colab_type": "code",
        "outputId": "c19ddc4e-3b50-4cd6-ec87-6833b05c1829",
        "colab": {
          "base_uri": "https://localhost:8080/",
          "height": 34
        }
      },
      "cell_type": "code",
      "source": [
        "print_score(m)"
      ],
      "execution_count": 0,
      "outputs": [
        {
          "output_type": "stream",
          "text": [
            "[0.26295803109436383, 0.26753441766926145, 0.25784043228748266, 0.23313338172630482]\n"
          ],
          "name": "stdout"
        }
      ]
    },
    {
      "metadata": {
        "id": "KDWvJsvW5Rs9",
        "colab_type": "code",
        "outputId": "b1919e34-d1f6-4c31-935a-66788a990b11",
        "colab": {
          "base_uri": "https://localhost:8080/",
          "height": 151
        }
      },
      "cell_type": "code",
      "source": [
        "m = RandomForestRegressor(n_estimators = 20, min_samples_leaf=3, n_jobs=8)\n",
        "%time m.fit(x,y)"
      ],
      "execution_count": 0,
      "outputs": [
        {
          "output_type": "stream",
          "text": [
            "CPU times: user 3min 52s, sys: 126 ms, total: 3min 52s\n",
            "Wall time: 1min 57s\n"
          ],
          "name": "stdout"
        },
        {
          "output_type": "execute_result",
          "data": {
            "text/plain": [
              "RandomForestRegressor(bootstrap=True, criterion='mse', max_depth=None,\n",
              "           max_features='auto', max_leaf_nodes=None,\n",
              "           min_impurity_decrease=0.0, min_impurity_split=None,\n",
              "           min_samples_leaf=3, min_samples_split=2,\n",
              "           min_weight_fraction_leaf=0.0, n_estimators=20, n_jobs=8,\n",
              "           oob_score=False, random_state=None, verbose=0, warm_start=False)"
            ]
          },
          "metadata": {
            "tags": []
          },
          "execution_count": 61
        }
      ]
    },
    {
      "metadata": {
        "id": "5pwCDWDh5eT5",
        "colab_type": "code",
        "outputId": "a2bb888a-b64b-4a57-c1c4-bb1961e0e655",
        "colab": {
          "base_uri": "https://localhost:8080/",
          "height": 699
        }
      },
      "cell_type": "code",
      "source": [
        "%time print_score(m)"
      ],
      "execution_count": 0,
      "outputs": [
        {
          "output_type": "error",
          "ename": "NameError",
          "evalue": "ignored",
          "traceback": [
            "\u001b[0;31m---------------------------------------------------------------------------\u001b[0m",
            "\u001b[0;31mNameError\u001b[0m                                 Traceback (most recent call last)",
            "\u001b[0;32m<ipython-input-1-0711ceb0a524>\u001b[0m in \u001b[0;36m<module>\u001b[0;34m()\u001b[0m\n\u001b[0;32m----> 1\u001b[0;31m \u001b[0mget_ipython\u001b[0m\u001b[0;34m(\u001b[0m\u001b[0;34m)\u001b[0m\u001b[0;34m.\u001b[0m\u001b[0mmagic\u001b[0m\u001b[0;34m(\u001b[0m\u001b[0;34m'time print_score(m)'\u001b[0m\u001b[0;34m)\u001b[0m\u001b[0;34m\u001b[0m\u001b[0;34m\u001b[0m\u001b[0m\n\u001b[0m",
            "\u001b[0;32m/usr/local/lib/python3.6/dist-packages/IPython/core/interactiveshell.py\u001b[0m in \u001b[0;36mmagic\u001b[0;34m(self, arg_s)\u001b[0m\n\u001b[1;32m   2158\u001b[0m         \u001b[0mmagic_name\u001b[0m\u001b[0;34m,\u001b[0m \u001b[0m_\u001b[0m\u001b[0;34m,\u001b[0m \u001b[0mmagic_arg_s\u001b[0m \u001b[0;34m=\u001b[0m \u001b[0marg_s\u001b[0m\u001b[0;34m.\u001b[0m\u001b[0mpartition\u001b[0m\u001b[0;34m(\u001b[0m\u001b[0;34m' '\u001b[0m\u001b[0;34m)\u001b[0m\u001b[0;34m\u001b[0m\u001b[0;34m\u001b[0m\u001b[0m\n\u001b[1;32m   2159\u001b[0m         \u001b[0mmagic_name\u001b[0m \u001b[0;34m=\u001b[0m \u001b[0mmagic_name\u001b[0m\u001b[0;34m.\u001b[0m\u001b[0mlstrip\u001b[0m\u001b[0;34m(\u001b[0m\u001b[0mprefilter\u001b[0m\u001b[0;34m.\u001b[0m\u001b[0mESC_MAGIC\u001b[0m\u001b[0;34m)\u001b[0m\u001b[0;34m\u001b[0m\u001b[0;34m\u001b[0m\u001b[0m\n\u001b[0;32m-> 2160\u001b[0;31m         \u001b[0;32mreturn\u001b[0m \u001b[0mself\u001b[0m\u001b[0;34m.\u001b[0m\u001b[0mrun_line_magic\u001b[0m\u001b[0;34m(\u001b[0m\u001b[0mmagic_name\u001b[0m\u001b[0;34m,\u001b[0m \u001b[0mmagic_arg_s\u001b[0m\u001b[0;34m)\u001b[0m\u001b[0;34m\u001b[0m\u001b[0;34m\u001b[0m\u001b[0m\n\u001b[0m\u001b[1;32m   2161\u001b[0m \u001b[0;34m\u001b[0m\u001b[0m\n\u001b[1;32m   2162\u001b[0m     \u001b[0;31m#-------------------------------------------------------------------------\u001b[0m\u001b[0;34m\u001b[0m\u001b[0;34m\u001b[0m\u001b[0;34m\u001b[0m\u001b[0m\n",
            "\u001b[0;32m/usr/local/lib/python3.6/dist-packages/IPython/core/interactiveshell.py\u001b[0m in \u001b[0;36mrun_line_magic\u001b[0;34m(self, magic_name, line)\u001b[0m\n\u001b[1;32m   2079\u001b[0m                 \u001b[0mkwargs\u001b[0m\u001b[0;34m[\u001b[0m\u001b[0;34m'local_ns'\u001b[0m\u001b[0;34m]\u001b[0m \u001b[0;34m=\u001b[0m \u001b[0msys\u001b[0m\u001b[0;34m.\u001b[0m\u001b[0m_getframe\u001b[0m\u001b[0;34m(\u001b[0m\u001b[0mstack_depth\u001b[0m\u001b[0;34m)\u001b[0m\u001b[0;34m.\u001b[0m\u001b[0mf_locals\u001b[0m\u001b[0;34m\u001b[0m\u001b[0;34m\u001b[0m\u001b[0m\n\u001b[1;32m   2080\u001b[0m             \u001b[0;32mwith\u001b[0m \u001b[0mself\u001b[0m\u001b[0;34m.\u001b[0m\u001b[0mbuiltin_trap\u001b[0m\u001b[0;34m:\u001b[0m\u001b[0;34m\u001b[0m\u001b[0;34m\u001b[0m\u001b[0m\n\u001b[0;32m-> 2081\u001b[0;31m                 \u001b[0mresult\u001b[0m \u001b[0;34m=\u001b[0m \u001b[0mfn\u001b[0m\u001b[0;34m(\u001b[0m\u001b[0;34m*\u001b[0m\u001b[0margs\u001b[0m\u001b[0;34m,\u001b[0m\u001b[0;34m**\u001b[0m\u001b[0mkwargs\u001b[0m\u001b[0;34m)\u001b[0m\u001b[0;34m\u001b[0m\u001b[0;34m\u001b[0m\u001b[0m\n\u001b[0m\u001b[1;32m   2082\u001b[0m             \u001b[0;32mreturn\u001b[0m \u001b[0mresult\u001b[0m\u001b[0;34m\u001b[0m\u001b[0;34m\u001b[0m\u001b[0m\n\u001b[1;32m   2083\u001b[0m \u001b[0;34m\u001b[0m\u001b[0m\n",
            "\u001b[0;32m<decorator-gen-60>\u001b[0m in \u001b[0;36mtime\u001b[0;34m(self, line, cell, local_ns)\u001b[0m\n",
            "\u001b[0;32m/usr/local/lib/python3.6/dist-packages/IPython/core/magic.py\u001b[0m in \u001b[0;36m<lambda>\u001b[0;34m(f, *a, **k)\u001b[0m\n\u001b[1;32m    186\u001b[0m     \u001b[0;31m# but it's overkill for just that one bit of state.\u001b[0m\u001b[0;34m\u001b[0m\u001b[0;34m\u001b[0m\u001b[0;34m\u001b[0m\u001b[0m\n\u001b[1;32m    187\u001b[0m     \u001b[0;32mdef\u001b[0m \u001b[0mmagic_deco\u001b[0m\u001b[0;34m(\u001b[0m\u001b[0marg\u001b[0m\u001b[0;34m)\u001b[0m\u001b[0;34m:\u001b[0m\u001b[0;34m\u001b[0m\u001b[0;34m\u001b[0m\u001b[0m\n\u001b[0;32m--> 188\u001b[0;31m         \u001b[0mcall\u001b[0m \u001b[0;34m=\u001b[0m \u001b[0;32mlambda\u001b[0m \u001b[0mf\u001b[0m\u001b[0;34m,\u001b[0m \u001b[0;34m*\u001b[0m\u001b[0ma\u001b[0m\u001b[0;34m,\u001b[0m \u001b[0;34m**\u001b[0m\u001b[0mk\u001b[0m\u001b[0;34m:\u001b[0m \u001b[0mf\u001b[0m\u001b[0;34m(\u001b[0m\u001b[0;34m*\u001b[0m\u001b[0ma\u001b[0m\u001b[0;34m,\u001b[0m \u001b[0;34m**\u001b[0m\u001b[0mk\u001b[0m\u001b[0;34m)\u001b[0m\u001b[0;34m\u001b[0m\u001b[0;34m\u001b[0m\u001b[0m\n\u001b[0m\u001b[1;32m    189\u001b[0m \u001b[0;34m\u001b[0m\u001b[0m\n\u001b[1;32m    190\u001b[0m         \u001b[0;32mif\u001b[0m \u001b[0mcallable\u001b[0m\u001b[0;34m(\u001b[0m\u001b[0marg\u001b[0m\u001b[0;34m)\u001b[0m\u001b[0;34m:\u001b[0m\u001b[0;34m\u001b[0m\u001b[0;34m\u001b[0m\u001b[0m\n",
            "\u001b[0;32m/usr/local/lib/python3.6/dist-packages/IPython/core/magics/execution.py\u001b[0m in \u001b[0;36mtime\u001b[0;34m(self, line, cell, local_ns)\u001b[0m\n\u001b[1;32m   1187\u001b[0m         \u001b[0;32mif\u001b[0m \u001b[0mmode\u001b[0m\u001b[0;34m==\u001b[0m\u001b[0;34m'eval'\u001b[0m\u001b[0;34m:\u001b[0m\u001b[0;34m\u001b[0m\u001b[0;34m\u001b[0m\u001b[0m\n\u001b[1;32m   1188\u001b[0m             \u001b[0mst\u001b[0m \u001b[0;34m=\u001b[0m \u001b[0mclock2\u001b[0m\u001b[0;34m(\u001b[0m\u001b[0;34m)\u001b[0m\u001b[0;34m\u001b[0m\u001b[0;34m\u001b[0m\u001b[0m\n\u001b[0;32m-> 1189\u001b[0;31m             \u001b[0mout\u001b[0m \u001b[0;34m=\u001b[0m \u001b[0meval\u001b[0m\u001b[0;34m(\u001b[0m\u001b[0mcode\u001b[0m\u001b[0;34m,\u001b[0m \u001b[0mglob\u001b[0m\u001b[0;34m,\u001b[0m \u001b[0mlocal_ns\u001b[0m\u001b[0;34m)\u001b[0m\u001b[0;34m\u001b[0m\u001b[0;34m\u001b[0m\u001b[0m\n\u001b[0m\u001b[1;32m   1190\u001b[0m             \u001b[0mend\u001b[0m \u001b[0;34m=\u001b[0m \u001b[0mclock2\u001b[0m\u001b[0;34m(\u001b[0m\u001b[0;34m)\u001b[0m\u001b[0;34m\u001b[0m\u001b[0;34m\u001b[0m\u001b[0m\n\u001b[1;32m   1191\u001b[0m         \u001b[0;32melse\u001b[0m\u001b[0;34m:\u001b[0m\u001b[0;34m\u001b[0m\u001b[0;34m\u001b[0m\u001b[0m\n",
            "\u001b[0;32m<timed eval>\u001b[0m in \u001b[0;36m<module>\u001b[0;34m()\u001b[0m\n",
            "\u001b[0;31mNameError\u001b[0m: name 'print_score' is not defined"
          ]
        }
      ]
    },
    {
      "metadata": {
        "id": "PTYsUjsb26Kt",
        "colab_type": "code",
        "colab": {}
      },
      "cell_type": "code",
      "source": [
        ""
      ],
      "execution_count": 0,
      "outputs": []
    }
  ]
}